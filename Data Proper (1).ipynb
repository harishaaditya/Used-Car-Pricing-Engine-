{
 "cells": [
  {
   "cell_type": "code",
   "execution_count": 1,
   "id": "f67cd5bb",
   "metadata": {},
   "outputs": [],
   "source": [
    "import numpy as np\n",
    "import pandas as pd\n",
    "import matplotlib.pyplot as plt\n",
    "import seaborn as sns\n",
    "from warnings import filterwarnings\n",
    "filterwarnings('ignore')"
   ]
  },
  {
   "cell_type": "code",
   "execution_count": 63,
   "id": "fd1e11eb",
   "metadata": {},
   "outputs": [],
   "source": [
    "pd.set_option('display.max_columns', None)"
   ]
  },
  {
   "cell_type": "code",
   "execution_count": 2,
   "id": "ff5835df",
   "metadata": {},
   "outputs": [
    {
     "data": {
      "text/html": [
       "<div>\n",
       "<style scoped>\n",
       "    .dataframe tbody tr th:only-of-type {\n",
       "        vertical-align: middle;\n",
       "    }\n",
       "\n",
       "    .dataframe tbody tr th {\n",
       "        vertical-align: top;\n",
       "    }\n",
       "\n",
       "    .dataframe thead th {\n",
       "        text-align: right;\n",
       "    }\n",
       "</style>\n",
       "<table border=\"1\" class=\"dataframe\">\n",
       "  <thead>\n",
       "    <tr style=\"text-align: right;\">\n",
       "      <th></th>\n",
       "      <th>Unnamed: 0</th>\n",
       "      <th>loc</th>\n",
       "      <th>myear</th>\n",
       "      <th>body</th>\n",
       "      <th>transmission</th>\n",
       "      <th>fuel</th>\n",
       "      <th>km</th>\n",
       "      <th>ip</th>\n",
       "      <th>imgCount</th>\n",
       "      <th>threesixty</th>\n",
       "      <th>...</th>\n",
       "      <th>Fuel Supply System</th>\n",
       "      <th>Compression Ratio</th>\n",
       "      <th>Alloy Wheel Size</th>\n",
       "      <th>Ground Clearance Unladen</th>\n",
       "      <th>Max Power Delivered</th>\n",
       "      <th>Max Power At</th>\n",
       "      <th>Max Torque Delivered</th>\n",
       "      <th>Max Torque At</th>\n",
       "      <th>Bore</th>\n",
       "      <th>Stroke</th>\n",
       "    </tr>\n",
       "  </thead>\n",
       "  <tbody>\n",
       "    <tr>\n",
       "      <th>0</th>\n",
       "      <td>0</td>\n",
       "      <td>gomti nagar</td>\n",
       "      <td>2016</td>\n",
       "      <td>hatchback</td>\n",
       "      <td>manual</td>\n",
       "      <td>cng</td>\n",
       "      <td>69162.0</td>\n",
       "      <td>0</td>\n",
       "      <td>15</td>\n",
       "      <td>False</td>\n",
       "      <td>...</td>\n",
       "      <td>Multi-Point Fuel Injection</td>\n",
       "      <td>10.714206</td>\n",
       "      <td>13.000000</td>\n",
       "      <td>NaN</td>\n",
       "      <td>58.16</td>\n",
       "      <td>6200.0</td>\n",
       "      <td>77.0</td>\n",
       "      <td>3500.0</td>\n",
       "      <td>69.0</td>\n",
       "      <td>NaN</td>\n",
       "    </tr>\n",
       "    <tr>\n",
       "      <th>1</th>\n",
       "      <td>1</td>\n",
       "      <td>borivali west</td>\n",
       "      <td>2015</td>\n",
       "      <td>hatchback</td>\n",
       "      <td>manual</td>\n",
       "      <td>cng</td>\n",
       "      <td>45864.0</td>\n",
       "      <td>0</td>\n",
       "      <td>15</td>\n",
       "      <td>False</td>\n",
       "      <td>...</td>\n",
       "      <td>Gasoline Port Injection</td>\n",
       "      <td>11.000000</td>\n",
       "      <td>14.647059</td>\n",
       "      <td>NaN</td>\n",
       "      <td>58.20</td>\n",
       "      <td>6000.0</td>\n",
       "      <td>78.0</td>\n",
       "      <td>3500.0</td>\n",
       "      <td>73.0</td>\n",
       "      <td>NaN</td>\n",
       "    </tr>\n",
       "    <tr>\n",
       "      <th>2</th>\n",
       "      <td>2</td>\n",
       "      <td>jasola</td>\n",
       "      <td>2015</td>\n",
       "      <td>sedan</td>\n",
       "      <td>manual</td>\n",
       "      <td>cng</td>\n",
       "      <td>81506.0</td>\n",
       "      <td>0</td>\n",
       "      <td>15</td>\n",
       "      <td>False</td>\n",
       "      <td>...</td>\n",
       "      <td>Multi-Point Fuel Injection</td>\n",
       "      <td>9.899485</td>\n",
       "      <td>14.115385</td>\n",
       "      <td>NaN</td>\n",
       "      <td>86.70</td>\n",
       "      <td>6000.0</td>\n",
       "      <td>109.0</td>\n",
       "      <td>4500.0</td>\n",
       "      <td>NaN</td>\n",
       "      <td>NaN</td>\n",
       "    </tr>\n",
       "    <tr>\n",
       "      <th>3</th>\n",
       "      <td>3</td>\n",
       "      <td>jasola</td>\n",
       "      <td>2013</td>\n",
       "      <td>hatchback</td>\n",
       "      <td>manual</td>\n",
       "      <td>cng</td>\n",
       "      <td>115893.0</td>\n",
       "      <td>0</td>\n",
       "      <td>0</td>\n",
       "      <td>False</td>\n",
       "      <td>...</td>\n",
       "      <td>Multi-Point Fuel Injection</td>\n",
       "      <td>9.000000</td>\n",
       "      <td>13.000000</td>\n",
       "      <td>NaN</td>\n",
       "      <td>58.20</td>\n",
       "      <td>6200.0</td>\n",
       "      <td>77.0</td>\n",
       "      <td>3500.0</td>\n",
       "      <td>NaN</td>\n",
       "      <td>NaN</td>\n",
       "    </tr>\n",
       "    <tr>\n",
       "      <th>4</th>\n",
       "      <td>4</td>\n",
       "      <td>mumbai g.p.o.</td>\n",
       "      <td>2022</td>\n",
       "      <td>muv</td>\n",
       "      <td>manual</td>\n",
       "      <td>cng</td>\n",
       "      <td>18900.0</td>\n",
       "      <td>0</td>\n",
       "      <td>6</td>\n",
       "      <td>False</td>\n",
       "      <td>...</td>\n",
       "      <td>Multi-Point Fuel Injection</td>\n",
       "      <td>12.000000</td>\n",
       "      <td>15.000000</td>\n",
       "      <td>NaN</td>\n",
       "      <td>86.63</td>\n",
       "      <td>5500.0</td>\n",
       "      <td>121.5</td>\n",
       "      <td>4200.0</td>\n",
       "      <td>NaN</td>\n",
       "      <td>NaN</td>\n",
       "    </tr>\n",
       "  </tbody>\n",
       "</table>\n",
       "<p>5 rows × 63 columns</p>\n",
       "</div>"
      ],
      "text/plain": [
       "   Unnamed: 0            loc  myear       body transmission fuel        km  \\\n",
       "0           0    gomti nagar   2016  hatchback       manual  cng   69162.0   \n",
       "1           1  borivali west   2015  hatchback       manual  cng   45864.0   \n",
       "2           2         jasola   2015      sedan       manual  cng   81506.0   \n",
       "3           3         jasola   2013  hatchback       manual  cng  115893.0   \n",
       "4           4  mumbai g.p.o.   2022        muv       manual  cng   18900.0   \n",
       "\n",
       "   ip  imgCount  threesixty  ...          Fuel Supply System  \\\n",
       "0   0        15       False  ...  Multi-Point Fuel Injection   \n",
       "1   0        15       False  ...     Gasoline Port Injection   \n",
       "2   0        15       False  ...  Multi-Point Fuel Injection   \n",
       "3   0         0       False  ...  Multi-Point Fuel Injection   \n",
       "4   0         6       False  ...  Multi-Point Fuel Injection   \n",
       "\n",
       "  Compression Ratio Alloy Wheel Size Ground Clearance Unladen  \\\n",
       "0         10.714206        13.000000                      NaN   \n",
       "1         11.000000        14.647059                      NaN   \n",
       "2          9.899485        14.115385                      NaN   \n",
       "3          9.000000        13.000000                      NaN   \n",
       "4         12.000000        15.000000                      NaN   \n",
       "\n",
       "  Max Power Delivered  Max Power At  Max Torque Delivered Max Torque At  Bore  \\\n",
       "0               58.16        6200.0                  77.0        3500.0  69.0   \n",
       "1               58.20        6000.0                  78.0        3500.0  73.0   \n",
       "2               86.70        6000.0                 109.0        4500.0   NaN   \n",
       "3               58.20        6200.0                  77.0        3500.0   NaN   \n",
       "4               86.63        5500.0                 121.5        4200.0   NaN   \n",
       "\n",
       "  Stroke  \n",
       "0    NaN  \n",
       "1    NaN  \n",
       "2    NaN  \n",
       "3    NaN  \n",
       "4    NaN  \n",
       "\n",
       "[5 rows x 63 columns]"
      ]
     },
     "execution_count": 2,
     "metadata": {},
     "output_type": "execute_result"
    }
   ],
   "source": [
    "data = pd.read_csv('DataProper.csv')\n",
    "data.head()"
   ]
  },
  {
   "cell_type": "code",
   "execution_count": 3,
   "id": "e67409a3",
   "metadata": {},
   "outputs": [
    {
     "data": {
      "text/plain": [
       "Index(['Unnamed: 0', 'loc', 'myear', 'body', 'transmission', 'fuel', 'km',\n",
       "       'ip', 'imgCount', 'threesixty', 'dvn', 'oem', 'model', 'variant',\n",
       "       'City', 'listed_price', 'discountValue', 'utype', 'carType',\n",
       "       'top_features', 'comfort_features', 'interior_features',\n",
       "       'exterior_features', 'safety_features', 'Engine Type', 'No of Cylinder',\n",
       "       'Valves per Cylinder', 'Valve Configuration', 'Turbo Charger',\n",
       "       'Super Charger', 'Length', 'Width', 'Height', 'Wheel Base',\n",
       "       'Front Tread', 'Rear Tread', 'Kerb Weight', 'Gross Weight', 'Gear Box',\n",
       "       'Drive Type', 'Seats', 'Steering Type', 'Turning Radius',\n",
       "       'Front Brake Type', 'Rear Brake Type', 'Top Speed', 'Acceleration',\n",
       "       'Tyre Type', 'Doors', 'Cargo Volume', 'state', 'exterior_color',\n",
       "       'owner_type', 'Fuel Supply System', 'Compression Ratio',\n",
       "       'Alloy Wheel Size', 'Ground Clearance Unladen', 'Max Power Delivered',\n",
       "       'Max Power At', 'Max Torque Delivered', 'Max Torque At', 'Bore',\n",
       "       'Stroke'],\n",
       "      dtype='object')"
      ]
     },
     "execution_count": 3,
     "metadata": {},
     "output_type": "execute_result"
    }
   ],
   "source": [
    "data.columns"
   ]
  },
  {
   "cell_type": "code",
   "execution_count": 4,
   "id": "c1fd5593",
   "metadata": {},
   "outputs": [
    {
     "data": {
      "text/plain": [
       "(37794, 53)"
      ]
     },
     "execution_count": 4,
     "metadata": {},
     "output_type": "execute_result"
    }
   ],
   "source": [
    "# Drop unnecessary columns\n",
    "df = data.drop(columns = ['Unnamed: 0', 'loc', 'imgCount', 'threesixty',\n",
    "                          'dvn', 'discountValue', 'Ground Clearance Unladen', 'Gross Weight', 'Bore','Stroke'])\n",
    "df.shape"
   ]
  },
  {
   "cell_type": "code",
   "execution_count": 5,
   "id": "feece9b7",
   "metadata": {},
   "outputs": [
    {
     "data": {
      "text/plain": [
       "Index(['myear', 'body', 'transmission', 'fuel', 'km', 'ip', 'oem', 'model',\n",
       "       'variant', 'City', 'listed_price', 'utype', 'carType', 'top_features',\n",
       "       'comfort_features', 'interior_features', 'exterior_features',\n",
       "       'safety_features', 'Engine Type', 'No of Cylinder',\n",
       "       'Valves per Cylinder', 'Valve Configuration', 'Turbo Charger',\n",
       "       'Super Charger', 'Length', 'Width', 'Height', 'Wheel Base',\n",
       "       'Front Tread', 'Rear Tread', 'Kerb Weight', 'Gear Box', 'Drive Type',\n",
       "       'Seats', 'Steering Type', 'Turning Radius', 'Front Brake Type',\n",
       "       'Rear Brake Type', 'Top Speed', 'Acceleration', 'Tyre Type', 'Doors',\n",
       "       'Cargo Volume', 'state', 'exterior_color', 'owner_type',\n",
       "       'Fuel Supply System', 'Compression Ratio', 'Alloy Wheel Size',\n",
       "       'Max Power Delivered', 'Max Power At', 'Max Torque Delivered',\n",
       "       'Max Torque At'],\n",
       "      dtype='object')"
      ]
     },
     "execution_count": 5,
     "metadata": {},
     "output_type": "execute_result"
    }
   ],
   "source": [
    "df.columns"
   ]
  },
  {
   "cell_type": "code",
   "execution_count": 6,
   "id": "19781478",
   "metadata": {},
   "outputs": [],
   "source": [
    "# Numerical and Categorical Columns\n",
    "num_list = ['km','listed_price',\n",
    "       'Length','Width','Height','Wheel Base','Front Tread','Rear Tread','Kerb Weight',\n",
    "       'Turning Radius','Top Speed','Acceleration','Cargo Volume','Compression Ratio',\n",
    "       'Max Power Delivered','Max Power At',\n",
    "       'Max Torque Delivered','Max Torque At']"
   ]
  },
  {
   "cell_type": "code",
   "execution_count": 7,
   "id": "46d71c33",
   "metadata": {},
   "outputs": [],
   "source": [
    "cat_list = ['myear','Doors','body','transmission','fuel','oem','model','variant','City','utype',\n",
    "       'carType','top_features','comfort_features','interior_features','exterior_features',\n",
    "       'safety_features','Engine Type','Valve Configuration','Gear Box','Drive Type',\n",
    "       'Steering Type','Front Brake Type','Rear Brake Type','Tyre Type','state','exterior_color',\n",
    "       'owner_type','Fuel Supply System','Turbo Charger','Super Charger','ip',\n",
    "       'No of Cylinder','Valves per Cylinder', 'Seats', 'Alloy Wheel Size']"
   ]
  },
  {
   "cell_type": "code",
   "execution_count": 8,
   "id": "57c1c363",
   "metadata": {},
   "outputs": [],
   "source": [
    "cat = df[cat_list]\n",
    "num = df[num_list]"
   ]
  },
  {
   "cell_type": "code",
   "execution_count": 9,
   "id": "fbb0c951",
   "metadata": {},
   "outputs": [
    {
     "data": {
      "text/plain": [
       "(37794, 18)"
      ]
     },
     "execution_count": 9,
     "metadata": {},
     "output_type": "execute_result"
    }
   ],
   "source": [
    "num.shape"
   ]
  },
  {
   "cell_type": "code",
   "execution_count": 10,
   "id": "73f2175a",
   "metadata": {},
   "outputs": [
    {
     "data": {
      "text/plain": [
       "(37794, 35)"
      ]
     },
     "execution_count": 10,
     "metadata": {},
     "output_type": "execute_result"
    }
   ],
   "source": [
    "cat.shape"
   ]
  },
  {
   "cell_type": "markdown",
   "id": "333bb8c7",
   "metadata": {},
   "source": [
    "### Five Point Summary"
   ]
  },
  {
   "cell_type": "code",
   "execution_count": 11,
   "id": "ce86d7d7",
   "metadata": {},
   "outputs": [
    {
     "data": {
      "text/html": [
       "<div>\n",
       "<style scoped>\n",
       "    .dataframe tbody tr th:only-of-type {\n",
       "        vertical-align: middle;\n",
       "    }\n",
       "\n",
       "    .dataframe tbody tr th {\n",
       "        vertical-align: top;\n",
       "    }\n",
       "\n",
       "    .dataframe thead th {\n",
       "        text-align: right;\n",
       "    }\n",
       "</style>\n",
       "<table border=\"1\" class=\"dataframe\">\n",
       "  <thead>\n",
       "    <tr style=\"text-align: right;\">\n",
       "      <th></th>\n",
       "      <th>km</th>\n",
       "      <th>listed_price</th>\n",
       "      <th>Length</th>\n",
       "      <th>Width</th>\n",
       "      <th>Height</th>\n",
       "      <th>Wheel Base</th>\n",
       "      <th>Front Tread</th>\n",
       "      <th>Rear Tread</th>\n",
       "      <th>Kerb Weight</th>\n",
       "      <th>Turning Radius</th>\n",
       "      <th>Top Speed</th>\n",
       "      <th>Acceleration</th>\n",
       "      <th>Cargo Volume</th>\n",
       "      <th>Compression Ratio</th>\n",
       "      <th>Max Power Delivered</th>\n",
       "      <th>Max Power At</th>\n",
       "      <th>Max Torque Delivered</th>\n",
       "      <th>Max Torque At</th>\n",
       "    </tr>\n",
       "  </thead>\n",
       "  <tbody>\n",
       "    <tr>\n",
       "      <th>count</th>\n",
       "      <td>3.779400e+04</td>\n",
       "      <td>3.779400e+04</td>\n",
       "      <td>37794.000000</td>\n",
       "      <td>37794.000000</td>\n",
       "      <td>37794.000000</td>\n",
       "      <td>37794.000000</td>\n",
       "      <td>37794.000000</td>\n",
       "      <td>37794.000000</td>\n",
       "      <td>37794.000000</td>\n",
       "      <td>37794.000000</td>\n",
       "      <td>37794.000000</td>\n",
       "      <td>37794.000000</td>\n",
       "      <td>37794.000000</td>\n",
       "      <td>37794.000000</td>\n",
       "      <td>37794.000000</td>\n",
       "      <td>37794.000000</td>\n",
       "      <td>37794.000000</td>\n",
       "      <td>37794.000000</td>\n",
       "    </tr>\n",
       "    <tr>\n",
       "      <th>mean</th>\n",
       "      <td>6.241425e+04</td>\n",
       "      <td>7.855572e+05</td>\n",
       "      <td>4111.922025</td>\n",
       "      <td>1724.577737</td>\n",
       "      <td>1577.458829</td>\n",
       "      <td>2545.139519</td>\n",
       "      <td>1479.029049</td>\n",
       "      <td>1479.121198</td>\n",
       "      <td>1190.647497</td>\n",
       "      <td>5.117158</td>\n",
       "      <td>170.231650</td>\n",
       "      <td>13.225428</td>\n",
       "      <td>361.576453</td>\n",
       "      <td>12.543261</td>\n",
       "      <td>102.594676</td>\n",
       "      <td>5113.984230</td>\n",
       "      <td>183.685479</td>\n",
       "      <td>3191.604673</td>\n",
       "    </tr>\n",
       "    <tr>\n",
       "      <th>std</th>\n",
       "      <td>5.848207e+04</td>\n",
       "      <td>1.132965e+06</td>\n",
       "      <td>400.507984</td>\n",
       "      <td>128.833868</td>\n",
       "      <td>114.937779</td>\n",
       "      <td>156.604752</td>\n",
       "      <td>79.472420</td>\n",
       "      <td>83.282520</td>\n",
       "      <td>318.809090</td>\n",
       "      <td>0.595758</td>\n",
       "      <td>23.577491</td>\n",
       "      <td>2.958310</td>\n",
       "      <td>143.712973</td>\n",
       "      <td>3.674927</td>\n",
       "      <td>42.840273</td>\n",
       "      <td>1056.468906</td>\n",
       "      <td>103.174808</td>\n",
       "      <td>1023.949182</td>\n",
       "    </tr>\n",
       "    <tr>\n",
       "      <th>min</th>\n",
       "      <td>1.010000e+02</td>\n",
       "      <td>1.196300e+04</td>\n",
       "      <td>2752.000000</td>\n",
       "      <td>1312.000000</td>\n",
       "      <td>1165.000000</td>\n",
       "      <td>1840.000000</td>\n",
       "      <td>1143.000000</td>\n",
       "      <td>1190.000000</td>\n",
       "      <td>451.000000</td>\n",
       "      <td>3.500000</td>\n",
       "      <td>70.000000</td>\n",
       "      <td>2.500000</td>\n",
       "      <td>20.000000</td>\n",
       "      <td>0.000000</td>\n",
       "      <td>10.800000</td>\n",
       "      <td>1620.000000</td>\n",
       "      <td>16.100000</td>\n",
       "      <td>500.000000</td>\n",
       "    </tr>\n",
       "    <tr>\n",
       "      <th>25%</th>\n",
       "      <td>3.174125e+04</td>\n",
       "      <td>3.200000e+05</td>\n",
       "      <td>3785.000000</td>\n",
       "      <td>1677.000000</td>\n",
       "      <td>1495.000000</td>\n",
       "      <td>2425.000000</td>\n",
       "      <td>1457.000000</td>\n",
       "      <td>1450.061728</td>\n",
       "      <td>945.139031</td>\n",
       "      <td>4.800000</td>\n",
       "      <td>156.000000</td>\n",
       "      <td>11.640000</td>\n",
       "      <td>252.577497</td>\n",
       "      <td>10.300000</td>\n",
       "      <td>74.020000</td>\n",
       "      <td>4000.000000</td>\n",
       "      <td>113.000000</td>\n",
       "      <td>2125.000000</td>\n",
       "    </tr>\n",
       "    <tr>\n",
       "      <th>50%</th>\n",
       "      <td>5.673500e+04</td>\n",
       "      <td>5.250000e+05</td>\n",
       "      <td>3995.000000</td>\n",
       "      <td>1710.000000</td>\n",
       "      <td>1530.000000</td>\n",
       "      <td>2520.000000</td>\n",
       "      <td>1493.642857</td>\n",
       "      <td>1498.000000</td>\n",
       "      <td>1100.000000</td>\n",
       "      <td>5.135000</td>\n",
       "      <td>165.020708</td>\n",
       "      <td>13.100000</td>\n",
       "      <td>346.000000</td>\n",
       "      <td>10.714206</td>\n",
       "      <td>88.500000</td>\n",
       "      <td>5500.000000</td>\n",
       "      <td>146.000000</td>\n",
       "      <td>3500.000000</td>\n",
       "    </tr>\n",
       "    <tr>\n",
       "      <th>75%</th>\n",
       "      <td>8.331225e+04</td>\n",
       "      <td>8.553972e+05</td>\n",
       "      <td>4440.000000</td>\n",
       "      <td>1790.000000</td>\n",
       "      <td>1642.000000</td>\n",
       "      <td>2637.000000</td>\n",
       "      <td>1535.107348</td>\n",
       "      <td>1530.000000</td>\n",
       "      <td>1518.698956</td>\n",
       "      <td>5.300000</td>\n",
       "      <td>182.000000</td>\n",
       "      <td>14.797753</td>\n",
       "      <td>465.000000</td>\n",
       "      <td>15.869683</td>\n",
       "      <td>118.350000</td>\n",
       "      <td>6000.000000</td>\n",
       "      <td>235.000000</td>\n",
       "      <td>4000.000000</td>\n",
       "    </tr>\n",
       "    <tr>\n",
       "      <th>max</th>\n",
       "      <td>6.300000e+06</td>\n",
       "      <td>9.551953e+07</td>\n",
       "      <td>5982.000000</td>\n",
       "      <td>2236.000000</td>\n",
       "      <td>2075.000000</td>\n",
       "      <td>3772.000000</td>\n",
       "      <td>1705.000000</td>\n",
       "      <td>1834.000000</td>\n",
       "      <td>2962.000000</td>\n",
       "      <td>13.510000</td>\n",
       "      <td>340.000000</td>\n",
       "      <td>30.300000</td>\n",
       "      <td>2055.000000</td>\n",
       "      <td>81.000000</td>\n",
       "      <td>769.310000</td>\n",
       "      <td>8250.000000</td>\n",
       "      <td>900.000000</td>\n",
       "      <td>6750.000000</td>\n",
       "    </tr>\n",
       "  </tbody>\n",
       "</table>\n",
       "</div>"
      ],
      "text/plain": [
       "                 km  listed_price        Length         Width        Height  \\\n",
       "count  3.779400e+04  3.779400e+04  37794.000000  37794.000000  37794.000000   \n",
       "mean   6.241425e+04  7.855572e+05   4111.922025   1724.577737   1577.458829   \n",
       "std    5.848207e+04  1.132965e+06    400.507984    128.833868    114.937779   \n",
       "min    1.010000e+02  1.196300e+04   2752.000000   1312.000000   1165.000000   \n",
       "25%    3.174125e+04  3.200000e+05   3785.000000   1677.000000   1495.000000   \n",
       "50%    5.673500e+04  5.250000e+05   3995.000000   1710.000000   1530.000000   \n",
       "75%    8.331225e+04  8.553972e+05   4440.000000   1790.000000   1642.000000   \n",
       "max    6.300000e+06  9.551953e+07   5982.000000   2236.000000   2075.000000   \n",
       "\n",
       "         Wheel Base   Front Tread    Rear Tread   Kerb Weight  Turning Radius  \\\n",
       "count  37794.000000  37794.000000  37794.000000  37794.000000    37794.000000   \n",
       "mean    2545.139519   1479.029049   1479.121198   1190.647497        5.117158   \n",
       "std      156.604752     79.472420     83.282520    318.809090        0.595758   \n",
       "min     1840.000000   1143.000000   1190.000000    451.000000        3.500000   \n",
       "25%     2425.000000   1457.000000   1450.061728    945.139031        4.800000   \n",
       "50%     2520.000000   1493.642857   1498.000000   1100.000000        5.135000   \n",
       "75%     2637.000000   1535.107348   1530.000000   1518.698956        5.300000   \n",
       "max     3772.000000   1705.000000   1834.000000   2962.000000       13.510000   \n",
       "\n",
       "          Top Speed  Acceleration  Cargo Volume  Compression Ratio  \\\n",
       "count  37794.000000  37794.000000  37794.000000       37794.000000   \n",
       "mean     170.231650     13.225428    361.576453          12.543261   \n",
       "std       23.577491      2.958310    143.712973           3.674927   \n",
       "min       70.000000      2.500000     20.000000           0.000000   \n",
       "25%      156.000000     11.640000    252.577497          10.300000   \n",
       "50%      165.020708     13.100000    346.000000          10.714206   \n",
       "75%      182.000000     14.797753    465.000000          15.869683   \n",
       "max      340.000000     30.300000   2055.000000          81.000000   \n",
       "\n",
       "       Max Power Delivered  Max Power At  Max Torque Delivered  Max Torque At  \n",
       "count         37794.000000  37794.000000          37794.000000   37794.000000  \n",
       "mean            102.594676   5113.984230            183.685479    3191.604673  \n",
       "std              42.840273   1056.468906            103.174808    1023.949182  \n",
       "min              10.800000   1620.000000             16.100000     500.000000  \n",
       "25%              74.020000   4000.000000            113.000000    2125.000000  \n",
       "50%              88.500000   5500.000000            146.000000    3500.000000  \n",
       "75%             118.350000   6000.000000            235.000000    4000.000000  \n",
       "max             769.310000   8250.000000            900.000000    6750.000000  "
      ]
     },
     "execution_count": 11,
     "metadata": {},
     "output_type": "execute_result"
    }
   ],
   "source": [
    "num.describe()"
   ]
  },
  {
   "cell_type": "code",
   "execution_count": 12,
   "id": "00e1d016",
   "metadata": {
    "scrolled": true
   },
   "outputs": [
    {
     "data": {
      "text/html": [
       "<div>\n",
       "<style scoped>\n",
       "    .dataframe tbody tr th:only-of-type {\n",
       "        vertical-align: middle;\n",
       "    }\n",
       "\n",
       "    .dataframe tbody tr th {\n",
       "        vertical-align: top;\n",
       "    }\n",
       "\n",
       "    .dataframe thead th {\n",
       "        text-align: right;\n",
       "    }\n",
       "</style>\n",
       "<table border=\"1\" class=\"dataframe\">\n",
       "  <thead>\n",
       "    <tr style=\"text-align: right;\">\n",
       "      <th></th>\n",
       "      <th>myear</th>\n",
       "      <th>Doors</th>\n",
       "      <th>ip</th>\n",
       "      <th>No of Cylinder</th>\n",
       "      <th>Valves per Cylinder</th>\n",
       "      <th>Seats</th>\n",
       "      <th>Alloy Wheel Size</th>\n",
       "    </tr>\n",
       "  </thead>\n",
       "  <tbody>\n",
       "    <tr>\n",
       "      <th>count</th>\n",
       "      <td>37794.000000</td>\n",
       "      <td>37794.000000</td>\n",
       "      <td>37794.000000</td>\n",
       "      <td>37794.000000</td>\n",
       "      <td>37794.000000</td>\n",
       "      <td>37794.000000</td>\n",
       "      <td>37794.000000</td>\n",
       "    </tr>\n",
       "    <tr>\n",
       "      <th>mean</th>\n",
       "      <td>2015.569641</td>\n",
       "      <td>4.664047</td>\n",
       "      <td>0.010213</td>\n",
       "      <td>3.807430</td>\n",
       "      <td>3.884823</td>\n",
       "      <td>5.236572</td>\n",
       "      <td>15.137628</td>\n",
       "    </tr>\n",
       "    <tr>\n",
       "      <th>std</th>\n",
       "      <td>3.778998</td>\n",
       "      <td>0.496686</td>\n",
       "      <td>0.100545</td>\n",
       "      <td>0.577964</td>\n",
       "      <td>0.465962</td>\n",
       "      <td>0.722090</td>\n",
       "      <td>1.507089</td>\n",
       "    </tr>\n",
       "    <tr>\n",
       "      <th>min</th>\n",
       "      <td>1983.000000</td>\n",
       "      <td>2.000000</td>\n",
       "      <td>0.000000</td>\n",
       "      <td>0.000000</td>\n",
       "      <td>0.000000</td>\n",
       "      <td>0.000000</td>\n",
       "      <td>12.000000</td>\n",
       "    </tr>\n",
       "    <tr>\n",
       "      <th>25%</th>\n",
       "      <td>2013.000000</td>\n",
       "      <td>4.000000</td>\n",
       "      <td>0.000000</td>\n",
       "      <td>4.000000</td>\n",
       "      <td>4.000000</td>\n",
       "      <td>5.000000</td>\n",
       "      <td>14.000000</td>\n",
       "    </tr>\n",
       "    <tr>\n",
       "      <th>50%</th>\n",
       "      <td>2016.000000</td>\n",
       "      <td>5.000000</td>\n",
       "      <td>0.000000</td>\n",
       "      <td>4.000000</td>\n",
       "      <td>4.000000</td>\n",
       "      <td>5.000000</td>\n",
       "      <td>15.000000</td>\n",
       "    </tr>\n",
       "    <tr>\n",
       "      <th>75%</th>\n",
       "      <td>2018.000000</td>\n",
       "      <td>5.000000</td>\n",
       "      <td>0.000000</td>\n",
       "      <td>4.000000</td>\n",
       "      <td>4.000000</td>\n",
       "      <td>5.000000</td>\n",
       "      <td>16.000000</td>\n",
       "    </tr>\n",
       "    <tr>\n",
       "      <th>max</th>\n",
       "      <td>2023.000000</td>\n",
       "      <td>6.000000</td>\n",
       "      <td>1.000000</td>\n",
       "      <td>12.000000</td>\n",
       "      <td>8.000000</td>\n",
       "      <td>14.000000</td>\n",
       "      <td>21.000000</td>\n",
       "    </tr>\n",
       "  </tbody>\n",
       "</table>\n",
       "</div>"
      ],
      "text/plain": [
       "              myear         Doors            ip  No of Cylinder  \\\n",
       "count  37794.000000  37794.000000  37794.000000    37794.000000   \n",
       "mean    2015.569641      4.664047      0.010213        3.807430   \n",
       "std        3.778998      0.496686      0.100545        0.577964   \n",
       "min     1983.000000      2.000000      0.000000        0.000000   \n",
       "25%     2013.000000      4.000000      0.000000        4.000000   \n",
       "50%     2016.000000      5.000000      0.000000        4.000000   \n",
       "75%     2018.000000      5.000000      0.000000        4.000000   \n",
       "max     2023.000000      6.000000      1.000000       12.000000   \n",
       "\n",
       "       Valves per Cylinder         Seats  Alloy Wheel Size  \n",
       "count         37794.000000  37794.000000      37794.000000  \n",
       "mean              3.884823      5.236572         15.137628  \n",
       "std               0.465962      0.722090          1.507089  \n",
       "min               0.000000      0.000000         12.000000  \n",
       "25%               4.000000      5.000000         14.000000  \n",
       "50%               4.000000      5.000000         15.000000  \n",
       "75%               4.000000      5.000000         16.000000  \n",
       "max               8.000000     14.000000         21.000000  "
      ]
     },
     "execution_count": 12,
     "metadata": {},
     "output_type": "execute_result"
    }
   ],
   "source": [
    "cat.describe()"
   ]
  },
  {
   "cell_type": "markdown",
   "id": "3365662a",
   "metadata": {},
   "source": [
    "## Correlation Matrix"
   ]
  },
  {
   "cell_type": "code",
   "execution_count": 13,
   "id": "771da72e",
   "metadata": {},
   "outputs": [
    {
     "data": {
      "image/png": "[encoded data removed]",
      "text/plain": [
       "<Figure size 1800x1000 with 2 Axes>"
      ]
     },
     "metadata": {},
     "output_type": "display_data"
    }
   ],
   "source": [
    "plt.figure(figsize=[18,10])\n",
    "sns.heatmap(num.corr(),annot=True)\n",
    "plt.show()"
   ]
  },
  {
   "cell_type": "markdown",
   "id": "1790812f",
   "metadata": {},
   "source": [
    "# Feature Engineering"
   ]
  },
  {
   "cell_type": "markdown",
   "id": "1620af99",
   "metadata": {},
   "source": [
    "## Various Features of the Cars"
   ]
  },
  {
   "cell_type": "markdown",
   "id": "74a9d55a",
   "metadata": {},
   "source": [
    "### Interior Features"
   ]
  },
  {
   "cell_type": "code",
   "execution_count": 14,
   "id": "c27a9f8a",
   "metadata": {},
   "outputs": [
    {
     "data": {
      "text/plain": [
       "array([ 7, 11,  5,  9,  4,  8, 10,  1,  3,  6,  2, 12, 13, 15, 16, 14, 17,\n",
       "       19, 18], dtype=int64)"
      ]
     },
     "execution_count": 14,
     "metadata": {},
     "output_type": "execute_result"
    }
   ],
   "source": [
    "df['interior_features'].unique()\n",
    "\n",
    "int_feat = []\n",
    "for i in df['interior_features']:\n",
    "    int_feat.append((len(i.split(sep=','))))\n",
    "df['interior_features'] = int_feat\n",
    "\n",
    "df['interior_features'].unique()"
   ]
  },
  {
   "cell_type": "markdown",
   "id": "109ff993",
   "metadata": {},
   "source": [
    "### Exterior Features"
   ]
  },
  {
   "cell_type": "code",
   "execution_count": 15,
   "id": "2170531e",
   "metadata": {},
   "outputs": [
    {
     "data": {
      "text/plain": [
       "array([ 6,  5,  4, 11,  8,  9,  3, 14, 10,  2,  1,  7, 12, 16, 13, 18, 20,\n",
       "       15, 19, 17, 21, 25, 22, 23, 27, 26, 24], dtype=int64)"
      ]
     },
     "execution_count": 15,
     "metadata": {},
     "output_type": "execute_result"
    }
   ],
   "source": [
    "df['exterior_features']\n",
    "\n",
    "ext_feat = []\n",
    "for i in df['exterior_features']:\n",
    "    ext_feat.append((len(i.split(sep=','))))\n",
    "df['exterior_features'] = ext_feat\n",
    "\n",
    "df['exterior_features'].unique()"
   ]
  },
  {
   "cell_type": "markdown",
   "id": "ab2b8b2e",
   "metadata": {},
   "source": [
    "### Comfort Features"
   ]
  },
  {
   "cell_type": "code",
   "execution_count": 16,
   "id": "d9536f7f",
   "metadata": {},
   "outputs": [
    {
     "data": {
      "text/plain": [
       "array([ 8, 10, 15,  5, 14,  6, 13,  7, 16, 12, 11,  2,  1,  3, 17,  4,  9,\n",
       "       19, 20, 21, 25, 18, 24, 23, 28, 22, 26, 29, 39, 30, 33, 32, 31, 27,\n",
       "       35, 34, 36, 37], dtype=int64)"
      ]
     },
     "execution_count": 16,
     "metadata": {},
     "output_type": "execute_result"
    }
   ],
   "source": [
    "df['comfort_features']\n",
    "\n",
    "com_feat = []\n",
    "for i in df['comfort_features']:\n",
    "    com_feat.append((len(i.split(sep=','))))\n",
    "df['comfort_features'] = com_feat\n",
    "\n",
    "df['comfort_features'].unique()"
   ]
  },
  {
   "cell_type": "markdown",
   "id": "31a84f83",
   "metadata": {},
   "source": [
    "### Safety Features"
   ]
  },
  {
   "cell_type": "code",
   "execution_count": 17,
   "id": "d1eebab9",
   "metadata": {},
   "outputs": [
    {
     "data": {
      "text/plain": [
       "array([14, 13, 16, 11, 27,  7, 23, 20, 18, 24, 22, 17, 19,  8,  1,  9, 15,\n",
       "        6, 21, 12, 10, 29,  3, 26, 25,  5, 34, 36, 28, 33, 31, 32, 37, 30,\n",
       "       49, 40, 38,  4, 44, 39, 41, 35, 42, 47, 43, 45, 48,  2, 46],\n",
       "      dtype=int64)"
      ]
     },
     "execution_count": 17,
     "metadata": {},
     "output_type": "execute_result"
    }
   ],
   "source": [
    "df['safety_features']\n",
    "\n",
    "safety_feat = []\n",
    "for i in df['safety_features']:\n",
    "    safety_feat.append((len(i.split(sep=','))))\n",
    "df['safety_features'] = safety_feat\n",
    "\n",
    "df['safety_features'].unique()"
   ]
  },
  {
   "cell_type": "markdown",
   "id": "86eae4ef",
   "metadata": {},
   "source": [
    "### Top Features"
   ]
  },
  {
   "cell_type": "code",
   "execution_count": 18,
   "id": "31f0578e",
   "metadata": {},
   "outputs": [
    {
     "data": {
      "text/plain": [
       "array([14, 13, 16, 11, 27,  7, 23, 20, 18, 24, 22, 17, 19,  8,  1,  9, 15,\n",
       "        6, 21, 12, 10, 29,  3, 26, 25,  5, 34, 36, 28, 33, 31, 32, 37, 30,\n",
       "       49, 40, 38,  4, 44, 39, 41, 35, 42, 47, 43, 45, 48,  2, 46],\n",
       "      dtype=int64)"
      ]
     },
     "execution_count": 18,
     "metadata": {},
     "output_type": "execute_result"
    }
   ],
   "source": [
    "df['top_features']\n",
    "\n",
    "top_feat = []\n",
    "for i in df['top_features']:\n",
    "    top_feat.append((len(i.split(sep=','))))\n",
    "df['top_features'] = safety_feat\n",
    "\n",
    "df['top_features'].unique()"
   ]
  },
  {
   "cell_type": "code",
   "execution_count": 19,
   "id": "8f817b5f",
   "metadata": {},
   "outputs": [
    {
     "data": {
      "text/html": [
       "<div>\n",
       "<style scoped>\n",
       "    .dataframe tbody tr th:only-of-type {\n",
       "        vertical-align: middle;\n",
       "    }\n",
       "\n",
       "    .dataframe tbody tr th {\n",
       "        vertical-align: top;\n",
       "    }\n",
       "\n",
       "    .dataframe thead th {\n",
       "        text-align: right;\n",
       "    }\n",
       "</style>\n",
       "<table border=\"1\" class=\"dataframe\">\n",
       "  <thead>\n",
       "    <tr style=\"text-align: right;\">\n",
       "      <th></th>\n",
       "      <th>myear</th>\n",
       "      <th>body</th>\n",
       "      <th>transmission</th>\n",
       "      <th>fuel</th>\n",
       "      <th>km</th>\n",
       "      <th>ip</th>\n",
       "      <th>oem</th>\n",
       "      <th>model</th>\n",
       "      <th>variant</th>\n",
       "      <th>City</th>\n",
       "      <th>...</th>\n",
       "      <th>state</th>\n",
       "      <th>exterior_color</th>\n",
       "      <th>owner_type</th>\n",
       "      <th>Fuel Supply System</th>\n",
       "      <th>Compression Ratio</th>\n",
       "      <th>Alloy Wheel Size</th>\n",
       "      <th>Max Power Delivered</th>\n",
       "      <th>Max Power At</th>\n",
       "      <th>Max Torque Delivered</th>\n",
       "      <th>Max Torque At</th>\n",
       "    </tr>\n",
       "  </thead>\n",
       "  <tbody>\n",
       "    <tr>\n",
       "      <th>0</th>\n",
       "      <td>2016</td>\n",
       "      <td>hatchback</td>\n",
       "      <td>manual</td>\n",
       "      <td>cng</td>\n",
       "      <td>69162.0</td>\n",
       "      <td>0</td>\n",
       "      <td>maruti</td>\n",
       "      <td>maruti wagon r</td>\n",
       "      <td>lxi cng</td>\n",
       "      <td>lucknow</td>\n",
       "      <td>...</td>\n",
       "      <td>uttar pradesh</td>\n",
       "      <td>silver</td>\n",
       "      <td>first</td>\n",
       "      <td>Multi-Point Fuel Injection</td>\n",
       "      <td>10.714206</td>\n",
       "      <td>13.000000</td>\n",
       "      <td>58.16</td>\n",
       "      <td>6200.0</td>\n",
       "      <td>77.0</td>\n",
       "      <td>3500.0</td>\n",
       "    </tr>\n",
       "    <tr>\n",
       "      <th>1</th>\n",
       "      <td>2015</td>\n",
       "      <td>hatchback</td>\n",
       "      <td>manual</td>\n",
       "      <td>cng</td>\n",
       "      <td>45864.0</td>\n",
       "      <td>0</td>\n",
       "      <td>maruti</td>\n",
       "      <td>maruti celerio</td>\n",
       "      <td>green vxi</td>\n",
       "      <td>mumbai</td>\n",
       "      <td>...</td>\n",
       "      <td>maharashtra</td>\n",
       "      <td>grey</td>\n",
       "      <td>first</td>\n",
       "      <td>Gasoline Port Injection</td>\n",
       "      <td>11.000000</td>\n",
       "      <td>14.647059</td>\n",
       "      <td>58.20</td>\n",
       "      <td>6000.0</td>\n",
       "      <td>78.0</td>\n",
       "      <td>3500.0</td>\n",
       "    </tr>\n",
       "    <tr>\n",
       "      <th>2</th>\n",
       "      <td>2015</td>\n",
       "      <td>sedan</td>\n",
       "      <td>manual</td>\n",
       "      <td>cng</td>\n",
       "      <td>81506.0</td>\n",
       "      <td>0</td>\n",
       "      <td>honda</td>\n",
       "      <td>honda amaze</td>\n",
       "      <td>s plus i-vtec</td>\n",
       "      <td>new delhi</td>\n",
       "      <td>...</td>\n",
       "      <td>delhi</td>\n",
       "      <td>silver</td>\n",
       "      <td>second</td>\n",
       "      <td>Multi-Point Fuel Injection</td>\n",
       "      <td>9.899485</td>\n",
       "      <td>14.115385</td>\n",
       "      <td>86.70</td>\n",
       "      <td>6000.0</td>\n",
       "      <td>109.0</td>\n",
       "      <td>4500.0</td>\n",
       "    </tr>\n",
       "    <tr>\n",
       "      <th>3</th>\n",
       "      <td>2013</td>\n",
       "      <td>hatchback</td>\n",
       "      <td>manual</td>\n",
       "      <td>cng</td>\n",
       "      <td>115893.0</td>\n",
       "      <td>0</td>\n",
       "      <td>maruti</td>\n",
       "      <td>maruti wagon r</td>\n",
       "      <td>lxi cng</td>\n",
       "      <td>new delhi</td>\n",
       "      <td>...</td>\n",
       "      <td>delhi</td>\n",
       "      <td>silver</td>\n",
       "      <td>second</td>\n",
       "      <td>Multi-Point Fuel Injection</td>\n",
       "      <td>9.000000</td>\n",
       "      <td>13.000000</td>\n",
       "      <td>58.20</td>\n",
       "      <td>6200.0</td>\n",
       "      <td>77.0</td>\n",
       "      <td>3500.0</td>\n",
       "    </tr>\n",
       "    <tr>\n",
       "      <th>4</th>\n",
       "      <td>2022</td>\n",
       "      <td>muv</td>\n",
       "      <td>manual</td>\n",
       "      <td>cng</td>\n",
       "      <td>18900.0</td>\n",
       "      <td>0</td>\n",
       "      <td>maruti</td>\n",
       "      <td>maruti ertiga</td>\n",
       "      <td>vxi cng</td>\n",
       "      <td>mumbai</td>\n",
       "      <td>...</td>\n",
       "      <td>maharashtra</td>\n",
       "      <td>white</td>\n",
       "      <td>first</td>\n",
       "      <td>Multi-Point Fuel Injection</td>\n",
       "      <td>12.000000</td>\n",
       "      <td>15.000000</td>\n",
       "      <td>86.63</td>\n",
       "      <td>5500.0</td>\n",
       "      <td>121.5</td>\n",
       "      <td>4200.0</td>\n",
       "    </tr>\n",
       "  </tbody>\n",
       "</table>\n",
       "<p>5 rows × 53 columns</p>\n",
       "</div>"
      ],
      "text/plain": [
       "   myear       body transmission fuel        km  ip     oem           model  \\\n",
       "0   2016  hatchback       manual  cng   69162.0   0  maruti  maruti wagon r   \n",
       "1   2015  hatchback       manual  cng   45864.0   0  maruti  maruti celerio   \n",
       "2   2015      sedan       manual  cng   81506.0   0   honda     honda amaze   \n",
       "3   2013  hatchback       manual  cng  115893.0   0  maruti  maruti wagon r   \n",
       "4   2022        muv       manual  cng   18900.0   0  maruti   maruti ertiga   \n",
       "\n",
       "         variant       City  ...          state exterior_color owner_type  \\\n",
       "0        lxi cng    lucknow  ...  uttar pradesh         silver      first   \n",
       "1      green vxi     mumbai  ...    maharashtra           grey      first   \n",
       "2  s plus i-vtec  new delhi  ...          delhi         silver     second   \n",
       "3        lxi cng  new delhi  ...          delhi         silver     second   \n",
       "4        vxi cng     mumbai  ...    maharashtra          white      first   \n",
       "\n",
       "           Fuel Supply System  Compression Ratio  Alloy Wheel Size  \\\n",
       "0  Multi-Point Fuel Injection          10.714206         13.000000   \n",
       "1     Gasoline Port Injection          11.000000         14.647059   \n",
       "2  Multi-Point Fuel Injection           9.899485         14.115385   \n",
       "3  Multi-Point Fuel Injection           9.000000         13.000000   \n",
       "4  Multi-Point Fuel Injection          12.000000         15.000000   \n",
       "\n",
       "   Max Power Delivered  Max Power At Max Torque Delivered  Max Torque At  \n",
       "0                58.16        6200.0                 77.0         3500.0  \n",
       "1                58.20        6000.0                 78.0         3500.0  \n",
       "2                86.70        6000.0                109.0         4500.0  \n",
       "3                58.20        6200.0                 77.0         3500.0  \n",
       "4                86.63        5500.0                121.5         4200.0  \n",
       "\n",
       "[5 rows x 53 columns]"
      ]
     },
     "execution_count": 19,
     "metadata": {},
     "output_type": "execute_result"
    }
   ],
   "source": [
    "df.head()"
   ]
  },
  {
   "cell_type": "markdown",
   "id": "b49d6d8e",
   "metadata": {},
   "source": [
    "### Car Age"
   ]
  },
  {
   "cell_type": "code",
   "execution_count": 20,
   "id": "97fed937",
   "metadata": {},
   "outputs": [
    {
     "data": {
      "text/plain": [
       "array([ 8,  9, 11,  2, 12, 14,  7,  3, 13,  6,  5, 10,  4, 18, 22, 21, 15,\n",
       "       23,  1, 16, 19, 17, 24, 27, 31, 20, 34, 35, 25, 30, 26, 38, 41, 28])"
      ]
     },
     "execution_count": 20,
     "metadata": {},
     "output_type": "execute_result"
    }
   ],
   "source": [
    "df['myear'] = df['myear'].astype('int')\n",
    "\n",
    "current_year = pd.Timestamp.today().year\n",
    "\n",
    "df['Car Age'] = current_year - df['myear']\n",
    "\n",
    "df['Car Age'].unique()\n"
   ]
  },
  {
   "cell_type": "markdown",
   "id": "68f69b27",
   "metadata": {},
   "source": [
    "### Color Grouping"
   ]
  },
  {
   "cell_type": "code",
   "execution_count": 21,
   "id": "4e116a27",
   "metadata": {},
   "outputs": [],
   "source": [
    "def map_to_primary(color):\n",
    "    color = color.lower()  \n",
    "    if 'red' in color or 'cherry' in color:\n",
    "        return 'red'\n",
    "    elif 'blue' in color or 'aqua' in color or 'earth' in color:\n",
    "        return 'blue'\n",
    "    elif 'green' in color or 'military' in color or 'army' in color:\n",
    "        return 'green'\n",
    "    elif 'yellow' in color or 'lime' in color:\n",
    "        return 'yellow'\n",
    "    elif 'orange' in color or 'sand' in color:\n",
    "        return 'orange'\n",
    "    elif 'brown' in color or 'chocolate' in color or 'maroon' in color or 'khaki' in color or 'rust' in color:\n",
    "        return 'brown'\n",
    "    elif 'grey' in color or 'gray' in color or 'silver' in color:\n",
    "        return 'grey'\n",
    "    elif 'white' in color or 'moonlight' in color:\n",
    "        return 'white'\n",
    "    elif 'black' in color or 'blackk' in color:\n",
    "        return 'black'\n",
    "    elif 'gold' in color or 'golden' in color:\n",
    "        return 'gold'\n",
    "    elif 'bronze' in color or 'bronz' in color or 'brounze' in color or 'bronzo' in color or 'copper' in color:\n",
    "        return 'bronze'\n",
    "    elif 'purple' in color or 'plum' in color:\n",
    "        return 'purple'\n",
    "    elif 'pink' in color:\n",
    "        return 'pink'\n",
    "    elif 'beige' in color:\n",
    "        return 'beige'\n",
    "    else:\n",
    "        return 'other' \n",
    "\n",
    "\n",
    "df['primary_color'] = df['exterior_color'].apply(map_to_primary)"
   ]
  },
  {
   "cell_type": "code",
   "execution_count": 22,
   "id": "90ce73cb",
   "metadata": {},
   "outputs": [
    {
     "data": {
      "text/html": [
       "<div>\n",
       "<style scoped>\n",
       "    .dataframe tbody tr th:only-of-type {\n",
       "        vertical-align: middle;\n",
       "    }\n",
       "\n",
       "    .dataframe tbody tr th {\n",
       "        vertical-align: top;\n",
       "    }\n",
       "\n",
       "    .dataframe thead th {\n",
       "        text-align: right;\n",
       "    }\n",
       "</style>\n",
       "<table border=\"1\" class=\"dataframe\">\n",
       "  <thead>\n",
       "    <tr style=\"text-align: right;\">\n",
       "      <th></th>\n",
       "      <th>myear</th>\n",
       "      <th>body</th>\n",
       "      <th>transmission</th>\n",
       "      <th>fuel</th>\n",
       "      <th>km</th>\n",
       "      <th>ip</th>\n",
       "      <th>oem</th>\n",
       "      <th>model</th>\n",
       "      <th>variant</th>\n",
       "      <th>City</th>\n",
       "      <th>...</th>\n",
       "      <th>owner_type</th>\n",
       "      <th>Fuel Supply System</th>\n",
       "      <th>Compression Ratio</th>\n",
       "      <th>Alloy Wheel Size</th>\n",
       "      <th>Max Power Delivered</th>\n",
       "      <th>Max Power At</th>\n",
       "      <th>Max Torque Delivered</th>\n",
       "      <th>Max Torque At</th>\n",
       "      <th>Car Age</th>\n",
       "      <th>primary_color</th>\n",
       "    </tr>\n",
       "  </thead>\n",
       "  <tbody>\n",
       "    <tr>\n",
       "      <th>0</th>\n",
       "      <td>2016</td>\n",
       "      <td>hatchback</td>\n",
       "      <td>manual</td>\n",
       "      <td>cng</td>\n",
       "      <td>69162.0</td>\n",
       "      <td>0</td>\n",
       "      <td>maruti</td>\n",
       "      <td>maruti wagon r</td>\n",
       "      <td>lxi cng</td>\n",
       "      <td>lucknow</td>\n",
       "      <td>...</td>\n",
       "      <td>first</td>\n",
       "      <td>Multi-Point Fuel Injection</td>\n",
       "      <td>10.714206</td>\n",
       "      <td>13.0</td>\n",
       "      <td>58.16</td>\n",
       "      <td>6200.0</td>\n",
       "      <td>77.0</td>\n",
       "      <td>3500.0</td>\n",
       "      <td>8</td>\n",
       "      <td>grey</td>\n",
       "    </tr>\n",
       "  </tbody>\n",
       "</table>\n",
       "<p>1 rows × 55 columns</p>\n",
       "</div>"
      ],
      "text/plain": [
       "   myear       body transmission fuel       km  ip     oem           model  \\\n",
       "0   2016  hatchback       manual  cng  69162.0   0  maruti  maruti wagon r   \n",
       "\n",
       "   variant     City  ...  owner_type          Fuel Supply System  \\\n",
       "0  lxi cng  lucknow  ...       first  Multi-Point Fuel Injection   \n",
       "\n",
       "  Compression Ratio  Alloy Wheel Size  Max Power Delivered  Max Power At  \\\n",
       "0         10.714206              13.0                58.16        6200.0   \n",
       "\n",
       "   Max Torque Delivered  Max Torque At Car Age  primary_color  \n",
       "0                  77.0         3500.0       8           grey  \n",
       "\n",
       "[1 rows x 55 columns]"
      ]
     },
     "execution_count": 22,
     "metadata": {},
     "output_type": "execute_result"
    }
   ],
   "source": [
    "df.head(1)"
   ]
  },
  {
   "cell_type": "markdown",
   "id": "ec5e3718",
   "metadata": {},
   "source": [
    "### Volume from height, width, length"
   ]
  },
  {
   "cell_type": "code",
   "execution_count": 23,
   "id": "5c86668e",
   "metadata": {},
   "outputs": [],
   "source": [
    "df['Total Volume'] = df['Height']*df['Length']*df['Width']"
   ]
  },
  {
   "cell_type": "code",
   "execution_count": 24,
   "id": "d43e5ea6",
   "metadata": {
    "scrolled": true
   },
   "outputs": [
    {
     "data": {
      "text/plain": [
       "0.6053032615222855"
      ]
     },
     "execution_count": 24,
     "metadata": {},
     "output_type": "execute_result"
    }
   ],
   "source": [
    "df['Total Volume'].corr(df['Cargo Volume'])"
   ]
  },
  {
   "cell_type": "markdown",
   "id": "630222ef",
   "metadata": {},
   "source": [
    "### Power to Torque Ratio"
   ]
  },
  {
   "cell_type": "code",
   "execution_count": 25,
   "id": "b4998050",
   "metadata": {},
   "outputs": [],
   "source": [
    "df['power_torque_ratio'] = df['Max Power Delivered']/df['Max Torque Delivered']"
   ]
  },
  {
   "cell_type": "code",
   "execution_count": 26,
   "id": "2c0ca724",
   "metadata": {},
   "outputs": [
    {
     "data": {
      "text/plain": [
       "0    0.755325\n",
       "1    0.746154\n",
       "2    0.795413\n",
       "3    0.755844\n",
       "4    0.713004\n",
       "Name: power_torque_ratio, dtype: float64"
      ]
     },
     "execution_count": 26,
     "metadata": {},
     "output_type": "execute_result"
    }
   ],
   "source": [
    "df['power_torque_ratio'].head()"
   ]
  },
  {
   "cell_type": "code",
   "execution_count": 27,
   "id": "6b7154bd",
   "metadata": {},
   "outputs": [
    {
     "data": {
      "text/plain": [
       "count    37794.000000\n",
       "mean         0.615043\n",
       "std          0.154764\n",
       "min          0.073511\n",
       "25%          0.444262\n",
       "50%          0.686600\n",
       "75%          0.743895\n",
       "max          4.607843\n",
       "Name: power_torque_ratio, dtype: float64"
      ]
     },
     "execution_count": 27,
     "metadata": {},
     "output_type": "execute_result"
    }
   ],
   "source": [
    "df['power_torque_ratio'].describe()"
   ]
  },
  {
   "cell_type": "code",
   "execution_count": 28,
   "id": "2c6a68fb",
   "metadata": {},
   "outputs": [
    {
     "data": {
      "text/plain": [
       "4.607843137254902"
      ]
     },
     "execution_count": 28,
     "metadata": {},
     "output_type": "execute_result"
    }
   ],
   "source": [
    "df['power_torque_ratio'].max()"
   ]
  },
  {
   "cell_type": "code",
   "execution_count": 29,
   "id": "8b67d004",
   "metadata": {},
   "outputs": [
    {
     "data": {
      "text/html": [
       "<div>\n",
       "<style scoped>\n",
       "    .dataframe tbody tr th:only-of-type {\n",
       "        vertical-align: middle;\n",
       "    }\n",
       "\n",
       "    .dataframe tbody tr th {\n",
       "        vertical-align: top;\n",
       "    }\n",
       "\n",
       "    .dataframe thead th {\n",
       "        text-align: right;\n",
       "    }\n",
       "</style>\n",
       "<table border=\"1\" class=\"dataframe\">\n",
       "  <thead>\n",
       "    <tr style=\"text-align: right;\">\n",
       "      <th></th>\n",
       "      <th>myear</th>\n",
       "      <th>body</th>\n",
       "      <th>transmission</th>\n",
       "      <th>fuel</th>\n",
       "      <th>km</th>\n",
       "      <th>ip</th>\n",
       "      <th>oem</th>\n",
       "      <th>model</th>\n",
       "      <th>variant</th>\n",
       "      <th>City</th>\n",
       "      <th>...</th>\n",
       "      <th>Compression Ratio</th>\n",
       "      <th>Alloy Wheel Size</th>\n",
       "      <th>Max Power Delivered</th>\n",
       "      <th>Max Power At</th>\n",
       "      <th>Max Torque Delivered</th>\n",
       "      <th>Max Torque At</th>\n",
       "      <th>Car Age</th>\n",
       "      <th>primary_color</th>\n",
       "      <th>Total Volume</th>\n",
       "      <th>power_torque_ratio</th>\n",
       "    </tr>\n",
       "  </thead>\n",
       "  <tbody>\n",
       "    <tr>\n",
       "      <th>9289</th>\n",
       "      <td>2008</td>\n",
       "      <td>sedan</td>\n",
       "      <td>automatic</td>\n",
       "      <td>diesel</td>\n",
       "      <td>110000.0</td>\n",
       "      <td>0</td>\n",
       "      <td>bmw</td>\n",
       "      <td>bmw 5 series</td>\n",
       "      <td>530d highline</td>\n",
       "      <td>bhubaneswar</td>\n",
       "      <td>...</td>\n",
       "      <td>16.0</td>\n",
       "      <td>17.0</td>\n",
       "      <td>235.0</td>\n",
       "      <td>4000.0</td>\n",
       "      <td>51.0</td>\n",
       "      <td>3000.0</td>\n",
       "      <td>16</td>\n",
       "      <td>black</td>\n",
       "      <td>1.311876e+10</td>\n",
       "      <td>4.607843</td>\n",
       "    </tr>\n",
       "    <tr>\n",
       "      <th>9404</th>\n",
       "      <td>2008</td>\n",
       "      <td>sedan</td>\n",
       "      <td>automatic</td>\n",
       "      <td>diesel</td>\n",
       "      <td>142637.0</td>\n",
       "      <td>0</td>\n",
       "      <td>bmw</td>\n",
       "      <td>bmw 5 series</td>\n",
       "      <td>530d highline</td>\n",
       "      <td>chennai</td>\n",
       "      <td>...</td>\n",
       "      <td>16.0</td>\n",
       "      <td>17.0</td>\n",
       "      <td>235.0</td>\n",
       "      <td>4000.0</td>\n",
       "      <td>51.0</td>\n",
       "      <td>3000.0</td>\n",
       "      <td>16</td>\n",
       "      <td>grey</td>\n",
       "      <td>1.311876e+10</td>\n",
       "      <td>4.607843</td>\n",
       "    </tr>\n",
       "    <tr>\n",
       "      <th>9472</th>\n",
       "      <td>2009</td>\n",
       "      <td>sedan</td>\n",
       "      <td>automatic</td>\n",
       "      <td>diesel</td>\n",
       "      <td>125617.0</td>\n",
       "      <td>0</td>\n",
       "      <td>bmw</td>\n",
       "      <td>bmw 5 series</td>\n",
       "      <td>530d highline</td>\n",
       "      <td>hyderabad</td>\n",
       "      <td>...</td>\n",
       "      <td>16.0</td>\n",
       "      <td>17.0</td>\n",
       "      <td>235.0</td>\n",
       "      <td>4000.0</td>\n",
       "      <td>51.0</td>\n",
       "      <td>3000.0</td>\n",
       "      <td>15</td>\n",
       "      <td>grey</td>\n",
       "      <td>1.311876e+10</td>\n",
       "      <td>4.607843</td>\n",
       "    </tr>\n",
       "  </tbody>\n",
       "</table>\n",
       "<p>3 rows × 57 columns</p>\n",
       "</div>"
      ],
      "text/plain": [
       "      myear   body transmission    fuel        km  ip  oem         model  \\\n",
       "9289   2008  sedan    automatic  diesel  110000.0   0  bmw  bmw 5 series   \n",
       "9404   2008  sedan    automatic  diesel  142637.0   0  bmw  bmw 5 series   \n",
       "9472   2009  sedan    automatic  diesel  125617.0   0  bmw  bmw 5 series   \n",
       "\n",
       "            variant         City  ...  Compression Ratio Alloy Wheel Size  \\\n",
       "9289  530d highline  bhubaneswar  ...               16.0             17.0   \n",
       "9404  530d highline      chennai  ...               16.0             17.0   \n",
       "9472  530d highline    hyderabad  ...               16.0             17.0   \n",
       "\n",
       "     Max Power Delivered  Max Power At  Max Torque Delivered  Max Torque At  \\\n",
       "9289               235.0        4000.0                  51.0         3000.0   \n",
       "9404               235.0        4000.0                  51.0         3000.0   \n",
       "9472               235.0        4000.0                  51.0         3000.0   \n",
       "\n",
       "      Car Age  primary_color  Total Volume  power_torque_ratio  \n",
       "9289       16          black  1.311876e+10            4.607843  \n",
       "9404       16           grey  1.311876e+10            4.607843  \n",
       "9472       15           grey  1.311876e+10            4.607843  \n",
       "\n",
       "[3 rows x 57 columns]"
      ]
     },
     "execution_count": 29,
     "metadata": {},
     "output_type": "execute_result"
    }
   ],
   "source": [
    "df[df['power_torque_ratio'] == df['power_torque_ratio'].max()]"
   ]
  },
  {
   "cell_type": "markdown",
   "id": "82e82959",
   "metadata": {},
   "source": [
    "### Power to Weight Ratio"
   ]
  },
  {
   "cell_type": "code",
   "execution_count": 30,
   "id": "6c11f6e8",
   "metadata": {
    "scrolled": true
   },
   "outputs": [
    {
     "data": {
      "text/plain": [
       "0    0.060583\n",
       "1    0.063607\n",
       "2    0.091263\n",
       "3    0.060625\n",
       "4    0.069304\n",
       "Name: power_weight_ratio, dtype: float64"
      ]
     },
     "execution_count": 30,
     "metadata": {},
     "output_type": "execute_result"
    }
   ],
   "source": [
    "df['power_weight_ratio'] = df['Max Power Delivered']/df['Kerb Weight']\n",
    "df['power_weight_ratio'].head()"
   ]
  },
  {
   "cell_type": "code",
   "execution_count": 31,
   "id": "d9fbbab6",
   "metadata": {},
   "outputs": [
    {
     "data": {
      "text/plain": [
       "count    37794.000000\n",
       "mean         0.084953\n",
       "std          0.018999\n",
       "min          0.023947\n",
       "25%          0.073585\n",
       "50%          0.084009\n",
       "75%          0.094357\n",
       "max          0.490006\n",
       "Name: power_weight_ratio, dtype: float64"
      ]
     },
     "execution_count": 31,
     "metadata": {},
     "output_type": "execute_result"
    }
   ],
   "source": [
    "df['power_weight_ratio'].describe()"
   ]
  },
  {
   "cell_type": "markdown",
   "id": "b5b6d67c",
   "metadata": {},
   "source": [
    "### Kilometers Per Year"
   ]
  },
  {
   "cell_type": "code",
   "execution_count": 32,
   "id": "a30fd165",
   "metadata": {},
   "outputs": [
    {
     "data": {
      "text/plain": [
       "0     8645.250000\n",
       "1     5096.000000\n",
       "2     9056.222222\n",
       "3    10535.727273\n",
       "4     9450.000000\n",
       "Name: kms_per_year, dtype: float64"
      ]
     },
     "execution_count": 32,
     "metadata": {},
     "output_type": "execute_result"
    }
   ],
   "source": [
    "df['kms_per_year'] = df['km']/df['Car Age']\n",
    "df['kms_per_year'].head()"
   ]
  },
  {
   "cell_type": "code",
   "execution_count": 33,
   "id": "72087a1b",
   "metadata": {},
   "outputs": [
    {
     "data": {
      "text/plain": [
       "count    37794.000000\n",
       "mean         0.084953\n",
       "std          0.018999\n",
       "min          0.023947\n",
       "25%          0.073585\n",
       "50%          0.084009\n",
       "75%          0.094357\n",
       "max          0.490006\n",
       "Name: power_weight_ratio, dtype: float64"
      ]
     },
     "execution_count": 33,
     "metadata": {},
     "output_type": "execute_result"
    }
   ],
   "source": [
    "df['power_weight_ratio'].describe()"
   ]
  },
  {
   "cell_type": "markdown",
   "id": "07015df4",
   "metadata": {},
   "source": [
    "### Acceleration-to-Power Ratio"
   ]
  },
  {
   "cell_type": "code",
   "execution_count": 34,
   "id": "444becd1",
   "metadata": {},
   "outputs": [
    {
     "data": {
      "text/plain": [
       "0    0.273384\n",
       "1    0.258591\n",
       "2    0.173010\n",
       "3    0.308776\n",
       "4    0.152396\n",
       "Name: Acceleration_power_ratio, dtype: float64"
      ]
     },
     "execution_count": 34,
     "metadata": {},
     "output_type": "execute_result"
    }
   ],
   "source": [
    "df['Acceleration_power_ratio'] = df['Acceleration']/df['Max Power Delivered']\n",
    "df['Acceleration_power_ratio'].head()"
   ]
  },
  {
   "cell_type": "code",
   "execution_count": 35,
   "id": "fcfc574a",
   "metadata": {},
   "outputs": [
    {
     "data": {
      "text/plain": [
       "count    37794.000000\n",
       "mean         0.155469\n",
       "std          0.083144\n",
       "min          0.003250\n",
       "25%          0.091901\n",
       "50%          0.150282\n",
       "75%          0.188312\n",
       "max          1.370162\n",
       "Name: Acceleration_power_ratio, dtype: float64"
      ]
     },
     "execution_count": 35,
     "metadata": {},
     "output_type": "execute_result"
    }
   ],
   "source": [
    "df['Acceleration_power_ratio'].describe()"
   ]
  },
  {
   "cell_type": "markdown",
   "id": "b183564f",
   "metadata": {},
   "source": [
    "### Speed Weight Ratio"
   ]
  },
  {
   "cell_type": "code",
   "execution_count": 36,
   "id": "d5ebf6b2",
   "metadata": {},
   "outputs": [
    {
     "data": {
      "text/plain": [
       "0    0.142708\n",
       "1    0.163934\n",
       "2    0.168421\n",
       "3    0.142708\n",
       "4    0.131200\n",
       "Name: speed_weight_ratio, dtype: float64"
      ]
     },
     "execution_count": 36,
     "metadata": {},
     "output_type": "execute_result"
    }
   ],
   "source": [
    "df['speed_weight_ratio'] = df['Top Speed'] / df['Kerb Weight']\n",
    "df['speed_weight_ratio'].head()"
   ]
  },
  {
   "cell_type": "code",
   "execution_count": 37,
   "id": "3d85eb90",
   "metadata": {},
   "outputs": [
    {
     "data": {
      "text/plain": [
       "count    37794.000000\n",
       "mean         0.149701\n",
       "std          0.029879\n",
       "min          0.043342\n",
       "25%          0.127711\n",
       "50%          0.154184\n",
       "75%          0.171751\n",
       "max          0.275000\n",
       "Name: speed_weight_ratio, dtype: float64"
      ]
     },
     "execution_count": 37,
     "metadata": {},
     "output_type": "execute_result"
    }
   ],
   "source": [
    "df['speed_weight_ratio'].describe()"
   ]
  },
  {
   "cell_type": "markdown",
   "id": "c5c07f20",
   "metadata": {},
   "source": [
    "### Turning Efficiency"
   ]
  },
  {
   "cell_type": "code",
   "execution_count": 38,
   "id": "4aa7e89d",
   "metadata": {},
   "outputs": [
    {
     "data": {
      "text/plain": [
       "0    0.001278\n",
       "1    0.001306\n",
       "2    0.001128\n",
       "3    0.001280\n",
       "4    0.001183\n",
       "Name: Turning_efficiency, dtype: float64"
      ]
     },
     "execution_count": 38,
     "metadata": {},
     "output_type": "execute_result"
    }
   ],
   "source": [
    "df['Turning_efficiency'] = df['Turning Radius'] / df['Length']\n",
    "df['Turning_efficiency'].head()"
   ]
  },
  {
   "cell_type": "code",
   "execution_count": 39,
   "id": "f277927b",
   "metadata": {
    "scrolled": true
   },
   "outputs": [
    {
     "data": {
      "text/plain": [
       "count    37794.000000\n",
       "mean         0.001247\n",
       "std          0.000102\n",
       "min          0.000936\n",
       "25%          0.001199\n",
       "50%          0.001241\n",
       "75%          0.001286\n",
       "max          0.002933\n",
       "Name: Turning_efficiency, dtype: float64"
      ]
     },
     "execution_count": 39,
     "metadata": {},
     "output_type": "execute_result"
    }
   ],
   "source": [
    "df['Turning_efficiency'].describe()"
   ]
  },
  {
   "cell_type": "code",
   "execution_count": 40,
   "id": "ded6c3b6",
   "metadata": {},
   "outputs": [
    {
     "data": {
      "text/plain": [
       "(37794, 62)"
      ]
     },
     "execution_count": 40,
     "metadata": {},
     "output_type": "execute_result"
    }
   ],
   "source": [
    "df.shape"
   ]
  },
  {
   "cell_type": "code",
   "execution_count": 41,
   "id": "4c6e2fdc",
   "metadata": {},
   "outputs": [],
   "source": [
    "### Removing Unnecessary Columns\n",
    "#Length, Width, Height, Turning Radius, Max Power Delivered, Max Torque Delivered, Acceleration, Top Speed"
   ]
  },
  {
   "cell_type": "markdown",
   "id": "0e8597c0",
   "metadata": {},
   "source": [
    "## Encoding"
   ]
  },
  {
   "cell_type": "code",
   "execution_count": 66,
   "id": "5666d30a",
   "metadata": {},
   "outputs": [],
   "source": [
    "df_en = df.copy()"
   ]
  },
  {
   "cell_type": "code",
   "execution_count": 67,
   "id": "ce47e52c",
   "metadata": {},
   "outputs": [
    {
     "data": {
      "text/plain": [
       "Index(['myear', 'body', 'transmission', 'fuel', 'km', 'ip', 'oem', 'model',\n",
       "       'variant', 'City', 'listed_price', 'utype', 'carType', 'top_features',\n",
       "       'comfort_features', 'interior_features', 'exterior_features',\n",
       "       'safety_features', 'Engine Type', 'No of Cylinder',\n",
       "       'Valves per Cylinder', 'Valve Configuration', 'Turbo Charger',\n",
       "       'Super Charger', 'Length', 'Width', 'Height', 'Wheel Base',\n",
       "       'Front Tread', 'Rear Tread', 'Kerb Weight', 'Gear Box', 'Drive Type',\n",
       "       'Seats', 'Steering Type', 'Turning Radius', 'Front Brake Type',\n",
       "       'Rear Brake Type', 'Top Speed', 'Acceleration', 'Tyre Type', 'Doors',\n",
       "       'Cargo Volume', 'state', 'exterior_color', 'owner_type',\n",
       "       'Fuel Supply System', 'Compression Ratio', 'Alloy Wheel Size',\n",
       "       'Max Power Delivered', 'Max Power At', 'Max Torque Delivered',\n",
       "       'Max Torque At', 'Car Age', 'primary_color', 'Total Volume',\n",
       "       'power_torque_ratio', 'power_weight_ratio', 'kms_per_year',\n",
       "       'Acceleration_power_ratio', 'speed_weight_ratio', 'Turning_efficiency'],\n",
       "      dtype='object')"
      ]
     },
     "execution_count": 67,
     "metadata": {},
     "output_type": "execute_result"
    }
   ],
   "source": [
    "df_en.columns"
   ]
  },
  {
   "cell_type": "code",
   "execution_count": 68,
   "id": "81c81639",
   "metadata": {},
   "outputs": [
    {
     "data": {
      "text/plain": [
       "array([False,  True])"
      ]
     },
     "execution_count": 68,
     "metadata": {},
     "output_type": "execute_result"
    }
   ],
   "source": [
    "df_en['Super Charger'].unique()"
   ]
  },
  {
   "cell_type": "code",
   "execution_count": 69,
   "id": "9612cf81",
   "metadata": {},
   "outputs": [],
   "source": [
    "df_en['Super Charger'].replace({True:1, False:0}, inplace=True)"
   ]
  },
  {
   "cell_type": "code",
   "execution_count": 70,
   "id": "876ea1a1",
   "metadata": {},
   "outputs": [
    {
     "data": {
      "text/plain": [
       "array([0, 1], dtype=int64)"
      ]
     },
     "execution_count": 70,
     "metadata": {},
     "output_type": "execute_result"
    }
   ],
   "source": [
    "df_en['Super Charger'].unique()"
   ]
  },
  {
   "cell_type": "code",
   "execution_count": 71,
   "id": "0b6765a3",
   "metadata": {},
   "outputs": [
    {
     "data": {
      "text/plain": [
       "array([False,  True])"
      ]
     },
     "execution_count": 71,
     "metadata": {},
     "output_type": "execute_result"
    }
   ],
   "source": [
    "df_en['Turbo Charger'].unique()"
   ]
  },
  {
   "cell_type": "code",
   "execution_count": 72,
   "id": "22bfa5a3",
   "metadata": {},
   "outputs": [],
   "source": [
    "df_en['Turbo Charger'].replace({True:1, False:0}, inplace=True)"
   ]
  },
  {
   "cell_type": "code",
   "execution_count": 73,
   "id": "57a0fd58",
   "metadata": {},
   "outputs": [
    {
     "data": {
      "text/plain": [
       "array([0, 1], dtype=int64)"
      ]
     },
     "execution_count": 73,
     "metadata": {},
     "output_type": "execute_result"
    }
   ],
   "source": [
    "df_en['Turbo Charger'].unique()"
   ]
  },
  {
   "cell_type": "code",
   "execution_count": null,
   "id": "88710927",
   "metadata": {},
   "outputs": [],
   "source": [
    "### Removing Unnecessary Columns\n",
    "#Length, Width, Height, Turning Radius, Max Power Delivered, Max Torque Delivered, Acceleration, Top Speed"
   ]
  },
  {
   "cell_type": "code",
   "execution_count": 74,
   "id": "21fea5ff",
   "metadata": {},
   "outputs": [],
   "source": [
    "df_en.drop(columns=['Length', 'Width', 'Height', \n",
    "                    'Turning Radius', 'Max Power Delivered', \n",
    "                    'Max Torque Delivered', 'Acceleration', 'Top Speed'], inplace = True)"
   ]
  },
  {
   "cell_type": "code",
   "execution_count": 75,
   "id": "01180bd3",
   "metadata": {},
   "outputs": [
    {
     "data": {
      "text/plain": [
       "Index(['myear', 'body', 'transmission', 'fuel', 'km', 'ip', 'oem', 'model',\n",
       "       'variant', 'City', 'listed_price', 'utype', 'carType', 'top_features',\n",
       "       'comfort_features', 'interior_features', 'exterior_features',\n",
       "       'safety_features', 'Engine Type', 'No of Cylinder',\n",
       "       'Valves per Cylinder', 'Valve Configuration', 'Turbo Charger',\n",
       "       'Super Charger', 'Wheel Base', 'Front Tread', 'Rear Tread',\n",
       "       'Kerb Weight', 'Gear Box', 'Drive Type', 'Seats', 'Steering Type',\n",
       "       'Front Brake Type', 'Rear Brake Type', 'Tyre Type', 'Doors',\n",
       "       'Cargo Volume', 'state', 'exterior_color', 'owner_type',\n",
       "       'Fuel Supply System', 'Compression Ratio', 'Alloy Wheel Size',\n",
       "       'Max Power At', 'Max Torque At', 'Car Age', 'primary_color',\n",
       "       'Total Volume', 'power_torque_ratio', 'power_weight_ratio',\n",
       "       'kms_per_year', 'Acceleration_power_ratio', 'speed_weight_ratio',\n",
       "       'Turning_efficiency'],\n",
       "      dtype='object')"
      ]
     },
     "execution_count": 75,
     "metadata": {},
     "output_type": "execute_result"
    }
   ],
   "source": [
    "df_en.columns"
   ]
  },
  {
   "cell_type": "code",
   "execution_count": 76,
   "id": "a1a14f21",
   "metadata": {},
   "outputs": [
    {
     "data": {
      "text/plain": [
       "['myear',\n",
       " 'Doors',\n",
       " 'body',\n",
       " 'transmission',\n",
       " 'fuel',\n",
       " 'oem',\n",
       " 'model',\n",
       " 'variant',\n",
       " 'City',\n",
       " 'utype',\n",
       " 'carType',\n",
       " 'top_features',\n",
       " 'comfort_features',\n",
       " 'interior_features',\n",
       " 'exterior_features',\n",
       " 'safety_features',\n",
       " 'Engine Type',\n",
       " 'Valve Configuration',\n",
       " 'Gear Box',\n",
       " 'Drive Type',\n",
       " 'Steering Type',\n",
       " 'Front Brake Type',\n",
       " 'Rear Brake Type',\n",
       " 'Tyre Type',\n",
       " 'state',\n",
       " 'exterior_color',\n",
       " 'owner_type',\n",
       " 'Fuel Supply System',\n",
       " 'Turbo Charger',\n",
       " 'Super Charger',\n",
       " 'ip',\n",
       " 'No of Cylinder',\n",
       " 'Valves per Cylinder',\n",
       " 'Seats',\n",
       " 'Alloy Wheel Size']"
      ]
     },
     "execution_count": 76,
     "metadata": {},
     "output_type": "execute_result"
    }
   ],
   "source": [
    "cat_list"
   ]
  },
  {
   "cell_type": "code",
   "execution_count": 77,
   "id": "8c68cf33",
   "metadata": {},
   "outputs": [],
   "source": [
    "c = ['myear',\n",
    " 'Doors',\n",
    " 'body',\n",
    " 'transmission',\n",
    " 'fuel',\n",
    " 'oem',\n",
    " 'model',\n",
    " 'variant',\n",
    " 'City',\n",
    " 'utype',\n",
    " 'carType',\n",
    " 'top_features',\n",
    " 'comfort_features',\n",
    " 'interior_features',\n",
    " 'exterior_features',\n",
    " 'safety_features',\n",
    " 'Engine Type',\n",
    " 'Valve Configuration',\n",
    " 'Gear Box',\n",
    " 'Drive Type',\n",
    " 'Steering Type',\n",
    " 'Front Brake Type',\n",
    " 'Rear Brake Type',\n",
    " 'Tyre Type',\n",
    " 'state',\n",
    " 'exterior_color',\n",
    " 'owner_type',\n",
    " 'Fuel Supply System',\n",
    " 'ip',\n",
    " 'No of Cylinder',\n",
    " 'Valves per Cylinder',\n",
    " 'Seats',\n",
    " 'Alloy Wheel Size', 'primary_color']"
   ]
  },
  {
   "cell_type": "code",
   "execution_count": 78,
   "id": "6b907276",
   "metadata": {},
   "outputs": [],
   "source": [
    "from sklearn.preprocessing import LabelEncoder\n",
    "l = LabelEncoder()\n",
    "\n",
    "for i in c:\n",
    "    df_en[i] = l.fit_transform(df_en[[i]])"
   ]
  },
  {
   "cell_type": "code",
   "execution_count": 79,
   "id": "d73266e0",
   "metadata": {},
   "outputs": [
    {
     "data": {
      "text/html": [
       "<div>\n",
       "<style scoped>\n",
       "    .dataframe tbody tr th:only-of-type {\n",
       "        vertical-align: middle;\n",
       "    }\n",
       "\n",
       "    .dataframe tbody tr th {\n",
       "        vertical-align: top;\n",
       "    }\n",
       "\n",
       "    .dataframe thead th {\n",
       "        text-align: right;\n",
       "    }\n",
       "</style>\n",
       "<table border=\"1\" class=\"dataframe\">\n",
       "  <thead>\n",
       "    <tr style=\"text-align: right;\">\n",
       "      <th></th>\n",
       "      <th>myear</th>\n",
       "      <th>body</th>\n",
       "      <th>transmission</th>\n",
       "      <th>fuel</th>\n",
       "      <th>km</th>\n",
       "      <th>ip</th>\n",
       "      <th>oem</th>\n",
       "      <th>model</th>\n",
       "      <th>variant</th>\n",
       "      <th>City</th>\n",
       "      <th>listed_price</th>\n",
       "      <th>utype</th>\n",
       "      <th>carType</th>\n",
       "      <th>top_features</th>\n",
       "      <th>comfort_features</th>\n",
       "      <th>interior_features</th>\n",
       "      <th>exterior_features</th>\n",
       "      <th>safety_features</th>\n",
       "      <th>Engine Type</th>\n",
       "      <th>No of Cylinder</th>\n",
       "      <th>Valves per Cylinder</th>\n",
       "      <th>Valve Configuration</th>\n",
       "      <th>Turbo Charger</th>\n",
       "      <th>Super Charger</th>\n",
       "      <th>Wheel Base</th>\n",
       "      <th>Front Tread</th>\n",
       "      <th>Rear Tread</th>\n",
       "      <th>Kerb Weight</th>\n",
       "      <th>Gear Box</th>\n",
       "      <th>Drive Type</th>\n",
       "      <th>Seats</th>\n",
       "      <th>Steering Type</th>\n",
       "      <th>Front Brake Type</th>\n",
       "      <th>Rear Brake Type</th>\n",
       "      <th>Tyre Type</th>\n",
       "      <th>Doors</th>\n",
       "      <th>Cargo Volume</th>\n",
       "      <th>state</th>\n",
       "      <th>exterior_color</th>\n",
       "      <th>owner_type</th>\n",
       "      <th>Fuel Supply System</th>\n",
       "      <th>Compression Ratio</th>\n",
       "      <th>Alloy Wheel Size</th>\n",
       "      <th>Max Power At</th>\n",
       "      <th>Max Torque At</th>\n",
       "      <th>Car Age</th>\n",
       "      <th>primary_color</th>\n",
       "      <th>Total Volume</th>\n",
       "      <th>power_torque_ratio</th>\n",
       "      <th>power_weight_ratio</th>\n",
       "      <th>kms_per_year</th>\n",
       "      <th>Acceleration_power_ratio</th>\n",
       "      <th>speed_weight_ratio</th>\n",
       "      <th>Turning_efficiency</th>\n",
       "    </tr>\n",
       "  </thead>\n",
       "  <tbody>\n",
       "    <tr>\n",
       "      <th>0</th>\n",
       "      <td>26</td>\n",
       "      <td>2</td>\n",
       "      <td>1</td>\n",
       "      <td>0</td>\n",
       "      <td>69162.0</td>\n",
       "      <td>0</td>\n",
       "      <td>29</td>\n",
       "      <td>223</td>\n",
       "      <td>2179</td>\n",
       "      <td>339</td>\n",
       "      <td>370000.0</td>\n",
       "      <td>0</td>\n",
       "      <td>1</td>\n",
       "      <td>13</td>\n",
       "      <td>7</td>\n",
       "      <td>6</td>\n",
       "      <td>5</td>\n",
       "      <td>13</td>\n",
       "      <td>345</td>\n",
       "      <td>3</td>\n",
       "      <td>4</td>\n",
       "      <td>1</td>\n",
       "      <td>0</td>\n",
       "      <td>0</td>\n",
       "      <td>2400.0</td>\n",
       "      <td>1295.000000</td>\n",
       "      <td>1290.000000</td>\n",
       "      <td>960.0</td>\n",
       "      <td>3</td>\n",
       "      <td>4</td>\n",
       "      <td>3</td>\n",
       "      <td>1</td>\n",
       "      <td>5</td>\n",
       "      <td>4</td>\n",
       "      <td>2</td>\n",
       "      <td>3</td>\n",
       "      <td>180.000000</td>\n",
       "      <td>30</td>\n",
       "      <td>621</td>\n",
       "      <td>1</td>\n",
       "      <td>10</td>\n",
       "      <td>10.714206</td>\n",
       "      <td>3</td>\n",
       "      <td>6200.0</td>\n",
       "      <td>3500.0</td>\n",
       "      <td>8</td>\n",
       "      <td>7</td>\n",
       "      <td>9.146858e+09</td>\n",
       "      <td>0.755325</td>\n",
       "      <td>0.060583</td>\n",
       "      <td>8645.250000</td>\n",
       "      <td>0.273384</td>\n",
       "      <td>0.142708</td>\n",
       "      <td>0.001278</td>\n",
       "    </tr>\n",
       "    <tr>\n",
       "      <th>1</th>\n",
       "      <td>25</td>\n",
       "      <td>2</td>\n",
       "      <td>1</td>\n",
       "      <td>0</td>\n",
       "      <td>45864.0</td>\n",
       "      <td>0</td>\n",
       "      <td>29</td>\n",
       "      <td>197</td>\n",
       "      <td>1926</td>\n",
       "      <td>379</td>\n",
       "      <td>365000.0</td>\n",
       "      <td>0</td>\n",
       "      <td>1</td>\n",
       "      <td>12</td>\n",
       "      <td>9</td>\n",
       "      <td>6</td>\n",
       "      <td>4</td>\n",
       "      <td>12</td>\n",
       "      <td>345</td>\n",
       "      <td>3</td>\n",
       "      <td>4</td>\n",
       "      <td>1</td>\n",
       "      <td>0</td>\n",
       "      <td>0</td>\n",
       "      <td>2425.0</td>\n",
       "      <td>1420.000000</td>\n",
       "      <td>1410.000000</td>\n",
       "      <td>915.0</td>\n",
       "      <td>3</td>\n",
       "      <td>4</td>\n",
       "      <td>3</td>\n",
       "      <td>1</td>\n",
       "      <td>5</td>\n",
       "      <td>4</td>\n",
       "      <td>3</td>\n",
       "      <td>3</td>\n",
       "      <td>235.000000</td>\n",
       "      <td>18</td>\n",
       "      <td>277</td>\n",
       "      <td>1</td>\n",
       "      <td>7</td>\n",
       "      <td>11.000000</td>\n",
       "      <td>27</td>\n",
       "      <td>6000.0</td>\n",
       "      <td>3500.0</td>\n",
       "      <td>9</td>\n",
       "      <td>7</td>\n",
       "      <td>8.985600e+09</td>\n",
       "      <td>0.746154</td>\n",
       "      <td>0.063607</td>\n",
       "      <td>5096.000000</td>\n",
       "      <td>0.258591</td>\n",
       "      <td>0.163934</td>\n",
       "      <td>0.001306</td>\n",
       "    </tr>\n",
       "    <tr>\n",
       "      <th>2</th>\n",
       "      <td>25</td>\n",
       "      <td>8</td>\n",
       "      <td>1</td>\n",
       "      <td>0</td>\n",
       "      <td>81506.0</td>\n",
       "      <td>0</td>\n",
       "      <td>15</td>\n",
       "      <td>85</td>\n",
       "      <td>2559</td>\n",
       "      <td>409</td>\n",
       "      <td>421000.0</td>\n",
       "      <td>0</td>\n",
       "      <td>1</td>\n",
       "      <td>15</td>\n",
       "      <td>14</td>\n",
       "      <td>10</td>\n",
       "      <td>4</td>\n",
       "      <td>15</td>\n",
       "      <td>316</td>\n",
       "      <td>4</td>\n",
       "      <td>4</td>\n",
       "      <td>4</td>\n",
       "      <td>0</td>\n",
       "      <td>0</td>\n",
       "      <td>2405.0</td>\n",
       "      <td>1491.052632</td>\n",
       "      <td>1501.315789</td>\n",
       "      <td>950.0</td>\n",
       "      <td>3</td>\n",
       "      <td>4</td>\n",
       "      <td>3</td>\n",
       "      <td>1</td>\n",
       "      <td>2</td>\n",
       "      <td>4</td>\n",
       "      <td>3</td>\n",
       "      <td>2</td>\n",
       "      <td>400.000000</td>\n",
       "      <td>8</td>\n",
       "      <td>621</td>\n",
       "      <td>3</td>\n",
       "      <td>10</td>\n",
       "      <td>9.899485</td>\n",
       "      <td>14</td>\n",
       "      <td>6000.0</td>\n",
       "      <td>4500.0</td>\n",
       "      <td>9</td>\n",
       "      <td>7</td>\n",
       "      <td>1.008832e+10</td>\n",
       "      <td>0.795413</td>\n",
       "      <td>0.091263</td>\n",
       "      <td>9056.222222</td>\n",
       "      <td>0.173010</td>\n",
       "      <td>0.168421</td>\n",
       "      <td>0.001128</td>\n",
       "    </tr>\n",
       "    <tr>\n",
       "      <th>3</th>\n",
       "      <td>23</td>\n",
       "      <td>2</td>\n",
       "      <td>1</td>\n",
       "      <td>0</td>\n",
       "      <td>115893.0</td>\n",
       "      <td>0</td>\n",
       "      <td>29</td>\n",
       "      <td>223</td>\n",
       "      <td>2179</td>\n",
       "      <td>409</td>\n",
       "      <td>240000.0</td>\n",
       "      <td>0</td>\n",
       "      <td>1</td>\n",
       "      <td>10</td>\n",
       "      <td>4</td>\n",
       "      <td>4</td>\n",
       "      <td>3</td>\n",
       "      <td>10</td>\n",
       "      <td>340</td>\n",
       "      <td>3</td>\n",
       "      <td>4</td>\n",
       "      <td>4</td>\n",
       "      <td>0</td>\n",
       "      <td>0</td>\n",
       "      <td>2400.0</td>\n",
       "      <td>1295.000000</td>\n",
       "      <td>1290.000000</td>\n",
       "      <td>960.0</td>\n",
       "      <td>3</td>\n",
       "      <td>4</td>\n",
       "      <td>3</td>\n",
       "      <td>1</td>\n",
       "      <td>5</td>\n",
       "      <td>4</td>\n",
       "      <td>3</td>\n",
       "      <td>2</td>\n",
       "      <td>252.577497</td>\n",
       "      <td>8</td>\n",
       "      <td>621</td>\n",
       "      <td>3</td>\n",
       "      <td>10</td>\n",
       "      <td>9.000000</td>\n",
       "      <td>3</td>\n",
       "      <td>6200.0</td>\n",
       "      <td>3500.0</td>\n",
       "      <td>11</td>\n",
       "      <td>7</td>\n",
       "      <td>9.014462e+09</td>\n",
       "      <td>0.755844</td>\n",
       "      <td>0.060625</td>\n",
       "      <td>10535.727273</td>\n",
       "      <td>0.308776</td>\n",
       "      <td>0.142708</td>\n",
       "      <td>0.001280</td>\n",
       "    </tr>\n",
       "    <tr>\n",
       "      <th>4</th>\n",
       "      <td>32</td>\n",
       "      <td>6</td>\n",
       "      <td>1</td>\n",
       "      <td>0</td>\n",
       "      <td>18900.0</td>\n",
       "      <td>0</td>\n",
       "      <td>29</td>\n",
       "      <td>204</td>\n",
       "      <td>3075</td>\n",
       "      <td>379</td>\n",
       "      <td>1175000.0</td>\n",
       "      <td>0</td>\n",
       "      <td>2</td>\n",
       "      <td>26</td>\n",
       "      <td>13</td>\n",
       "      <td>8</td>\n",
       "      <td>10</td>\n",
       "      <td>26</td>\n",
       "      <td>359</td>\n",
       "      <td>4</td>\n",
       "      <td>4</td>\n",
       "      <td>4</td>\n",
       "      <td>1</td>\n",
       "      <td>1</td>\n",
       "      <td>2740.0</td>\n",
       "      <td>1480.000000</td>\n",
       "      <td>1490.000000</td>\n",
       "      <td>1250.0</td>\n",
       "      <td>3</td>\n",
       "      <td>0</td>\n",
       "      <td>5</td>\n",
       "      <td>1</td>\n",
       "      <td>2</td>\n",
       "      <td>4</td>\n",
       "      <td>3</td>\n",
       "      <td>3</td>\n",
       "      <td>209.000000</td>\n",
       "      <td>18</td>\n",
       "      <td>737</td>\n",
       "      <td>1</td>\n",
       "      <td>10</td>\n",
       "      <td>12.000000</td>\n",
       "      <td>32</td>\n",
       "      <td>5500.0</td>\n",
       "      <td>4200.0</td>\n",
       "      <td>2</td>\n",
       "      <td>13</td>\n",
       "      <td>1.288680e+10</td>\n",
       "      <td>0.713004</td>\n",
       "      <td>0.069304</td>\n",
       "      <td>9450.000000</td>\n",
       "      <td>0.152396</td>\n",
       "      <td>0.131200</td>\n",
       "      <td>0.001183</td>\n",
       "    </tr>\n",
       "  </tbody>\n",
       "</table>\n",
       "</div>"
      ],
      "text/plain": [
       "   myear  body  transmission  fuel        km  ip  oem  model  variant  City  \\\n",
       "0     26     2             1     0   69162.0   0   29    223     2179   339   \n",
       "1     25     2             1     0   45864.0   0   29    197     1926   379   \n",
       "2     25     8             1     0   81506.0   0   15     85     2559   409   \n",
       "3     23     2             1     0  115893.0   0   29    223     2179   409   \n",
       "4     32     6             1     0   18900.0   0   29    204     3075   379   \n",
       "\n",
       "   listed_price  utype  carType  top_features  comfort_features  \\\n",
       "0      370000.0      0        1            13                 7   \n",
       "1      365000.0      0        1            12                 9   \n",
       "2      421000.0      0        1            15                14   \n",
       "3      240000.0      0        1            10                 4   \n",
       "4     1175000.0      0        2            26                13   \n",
       "\n",
       "   interior_features  exterior_features  safety_features  Engine Type  \\\n",
       "0                  6                  5               13          345   \n",
       "1                  6                  4               12          345   \n",
       "2                 10                  4               15          316   \n",
       "3                  4                  3               10          340   \n",
       "4                  8                 10               26          359   \n",
       "\n",
       "   No of Cylinder  Valves per Cylinder  Valve Configuration  Turbo Charger  \\\n",
       "0               3                    4                    1              0   \n",
       "1               3                    4                    1              0   \n",
       "2               4                    4                    4              0   \n",
       "3               3                    4                    4              0   \n",
       "4               4                    4                    4              1   \n",
       "\n",
       "   Super Charger  Wheel Base  Front Tread   Rear Tread  Kerb Weight  Gear Box  \\\n",
       "0              0      2400.0  1295.000000  1290.000000        960.0         3   \n",
       "1              0      2425.0  1420.000000  1410.000000        915.0         3   \n",
       "2              0      2405.0  1491.052632  1501.315789        950.0         3   \n",
       "3              0      2400.0  1295.000000  1290.000000        960.0         3   \n",
       "4              1      2740.0  1480.000000  1490.000000       1250.0         3   \n",
       "\n",
       "   Drive Type  Seats  Steering Type  Front Brake Type  Rear Brake Type  \\\n",
       "0           4      3              1                 5                4   \n",
       "1           4      3              1                 5                4   \n",
       "2           4      3              1                 2                4   \n",
       "3           4      3              1                 5                4   \n",
       "4           0      5              1                 2                4   \n",
       "\n",
       "   Tyre Type  Doors  Cargo Volume  state  exterior_color  owner_type  \\\n",
       "0          2      3    180.000000     30             621           1   \n",
       "1          3      3    235.000000     18             277           1   \n",
       "2          3      2    400.000000      8             621           3   \n",
       "3          3      2    252.577497      8             621           3   \n",
       "4          3      3    209.000000     18             737           1   \n",
       "\n",
       "   Fuel Supply System  Compression Ratio  Alloy Wheel Size  Max Power At  \\\n",
       "0                  10          10.714206                 3        6200.0   \n",
       "1                   7          11.000000                27        6000.0   \n",
       "2                  10           9.899485                14        6000.0   \n",
       "3                  10           9.000000                 3        6200.0   \n",
       "4                  10          12.000000                32        5500.0   \n",
       "\n",
       "   Max Torque At  Car Age  primary_color  Total Volume  power_torque_ratio  \\\n",
       "0         3500.0        8              7  9.146858e+09            0.755325   \n",
       "1         3500.0        9              7  8.985600e+09            0.746154   \n",
       "2         4500.0        9              7  1.008832e+10            0.795413   \n",
       "3         3500.0       11              7  9.014462e+09            0.755844   \n",
       "4         4200.0        2             13  1.288680e+10            0.713004   \n",
       "\n",
       "   power_weight_ratio  kms_per_year  Acceleration_power_ratio  \\\n",
       "0            0.060583   8645.250000                  0.273384   \n",
       "1            0.063607   5096.000000                  0.258591   \n",
       "2            0.091263   9056.222222                  0.173010   \n",
       "3            0.060625  10535.727273                  0.308776   \n",
       "4            0.069304   9450.000000                  0.152396   \n",
       "\n",
       "   speed_weight_ratio  Turning_efficiency  \n",
       "0            0.142708            0.001278  \n",
       "1            0.163934            0.001306  \n",
       "2            0.168421            0.001128  \n",
       "3            0.142708            0.001280  \n",
       "4            0.131200            0.001183  "
      ]
     },
     "execution_count": 79,
     "metadata": {},
     "output_type": "execute_result"
    }
   ],
   "source": [
    "df_en.head()"
   ]
  },
  {
   "cell_type": "markdown",
   "id": "9fa3e3c6",
   "metadata": {},
   "source": [
    "# Train Test Split"
   ]
  },
  {
   "cell_type": "code",
   "execution_count": 80,
   "id": "ce03efa8",
   "metadata": {},
   "outputs": [
    {
     "name": "stdout",
     "output_type": "stream",
     "text": [
      "(26455, 53) (26455, 1)\n",
      "(11339, 53) (11339, 1)\n"
     ]
    }
   ],
   "source": [
    "x = df_en.drop('listed_price', axis=1)\n",
    "y = df_en[['listed_price']]\n",
    "\n",
    "from sklearn.model_selection import train_test_split\n",
    "\n",
    "xtrain, xtest, ytrain, ytest = train_test_split(x,y, test_size=0.3, random_state=7)\n",
    "print(xtrain.shape, ytrain.shape)\n",
    "print(xtest.shape, ytest.shape)"
   ]
  },
  {
   "cell_type": "markdown",
   "id": "9cef5e73",
   "metadata": {},
   "source": [
    "# Scaling"
   ]
  },
  {
   "cell_type": "code",
   "execution_count": 81,
   "id": "005bdf01",
   "metadata": {},
   "outputs": [],
   "source": [
    "from sklearn.preprocessing import RobustScaler\n",
    "\n",
    "r = RobustScaler()\n",
    "xtrain_sc = r.fit_transform(xtrain)\n",
    "xtrain_sc = pd.DataFrame(xtrain_sc, columns=xtrain.columns)"
   ]
  },
  {
   "cell_type": "code",
   "execution_count": 82,
   "id": "a2a03836",
   "metadata": {},
   "outputs": [],
   "source": [
    "xtest_sc = r.transform(xtest)\n",
    "xtest_sc = pd.DataFrame(xtest_sc, columns=xtest.columns)"
   ]
  },
  {
   "cell_type": "code",
   "execution_count": null,
   "id": "f6b6fe63",
   "metadata": {},
   "outputs": [],
   "source": []
  },
  {
   "cell_type": "markdown",
   "id": "e3d64797",
   "metadata": {},
   "source": [
    "# Model Building"
   ]
  },
  {
   "cell_type": "code",
   "execution_count": 86,
   "id": "fe6f0be9",
   "metadata": {},
   "outputs": [],
   "source": [
    "from sklearn.linear_model import LinearRegression\n",
    "from sklearn.ensemble import AdaBoostRegressor,GradientBoostingRegressor,StackingRegressor,VotingRegressor,RandomForestRegressor\n",
    "from sklearn.tree import DecisionTreeRegressor\n",
    "from xgboost import XGBRegressor\n",
    "from sklearn.metrics import r2_score,mean_absolute_error,mean_absolute_percentage_error,mean_squared_error\n",
    "from statsmodels.stats.outliers_influence import variance_inflation_factor\n",
    "from sklearn.metrics import explained_variance_score\n",
    "\n",
    "from sklearn.model_selection import GridSearchCV"
   ]
  },
  {
   "cell_type": "code",
   "execution_count": 93,
   "id": "03a220d8",
   "metadata": {},
   "outputs": [],
   "source": [
    "from sklearn.metrics import mean_squared_error, mean_absolute_error, r2_score, explained_variance_score\n",
    "\n",
    "# Initialize lists to store model performance metrics\n",
    "mod = []\n",
    "mse = []\n",
    "mae = []\n",
    "mape = []\n",
    "r2 = []\n",
    "evs = []\n",
    "\n",
    "def model_validation_regression(model, xtrain, ytrain, xtest, ytest):\n",
    "    # Fit the model\n",
    "    model.fit(xtrain, ytrain)\n",
    "    \n",
    "    # Make predictions\n",
    "    predictions = model.predict(xtest)\n",
    "    \n",
    "    # Calculate metrics\n",
    "    mse_score = mean_squared_error(ytest, predictions)\n",
    "    mae_score = mean_absolute_error(ytest, predictions)\n",
    "    mape_score = mean_absolute_percentage_error(ytest, predictions)\n",
    "    r2_score_value = r2_score(ytest, predictions)\n",
    "    evs_score = explained_variance_score(ytest, predictions)\n",
    "    \n",
    "    # Print metrics\n",
    "    print(f'Mean Squared Error: {mse_score:.3f}')\n",
    "    print(f'Mean Absolute Error: {mae_score:.3f}')\n",
    "    print(f'Mean Absolute Percentage Error: {mape_score:.3f}')\n",
    "    print(f'R^2 Score: {r2_score_value:.3f}')\n",
    "    print(f'Explained Variance Score: {evs_score:.3f}')\n",
    "    \n",
    "    \n",
    "    # Ask if the user wants to save the model performance\n",
    "    inp = input('Do you want to save the model in the scorecard? Y/N ')\n",
    "    if inp.lower() == 'y':\n",
    "        global scorecard\n",
    "        mod.append(str(model))\n",
    "        mse.append(mse_score)\n",
    "        mae.append(mae_score)\n",
    "        mape.append(mape_score)\n",
    "        r2.append(r2_score_value)\n",
    "        evs.append(evs_score)\n",
    "        \n",
    "        # Create and update the scorecard DataFrame\n",
    "        scorecard = pd.DataFrame({'Model': mod, \n",
    "                                 'Mean Squared Error': mse,\n",
    "                                 'Mean Absolute Error': mae,\n",
    "                                  'Mean Absolute Percentage Error': mape,\n",
    "                                 'R^2 Score': r2,\n",
    "                                 'Explained Variance Score': evs})\n",
    "    else:\n",
    "        return"
   ]
  },
  {
   "cell_type": "code",
   "execution_count": 94,
   "id": "abfd067d",
   "metadata": {},
   "outputs": [
    {
     "name": "stdout",
     "output_type": "stream",
     "text": [
      "Mean Squared Error: 852247618222.129\n",
      "Mean Absolute Error: 173955.392\n",
      "Mean Absolute Percentage Error: 0.240\n",
      "R^2 Score: 0.539\n",
      "Explained Variance Score: 0.539\n",
      "Do you want to save the model in the scorecard? Y/N y\n"
     ]
    }
   ],
   "source": [
    "model = DecisionTreeRegressor(max_depth=7)\n",
    "model_validation_regression(model, xtrain_sc, ytrain, xtest_sc, ytest)"
   ]
  },
  {
   "cell_type": "code",
   "execution_count": 95,
   "id": "e774d76f",
   "metadata": {},
   "outputs": [
    {
     "name": "stdout",
     "output_type": "stream",
     "text": [
      "Mean Squared Error: 648707806112.374\n",
      "Mean Absolute Error: 98321.596\n",
      "Mean Absolute Percentage Error: 0.135\n",
      "R^2 Score: 0.649\n",
      "Explained Variance Score: 0.649\n",
      "Do you want to save the model in the scorecard? Y/N y\n"
     ]
    }
   ],
   "source": [
    "model = RandomForestRegressor()\n",
    "model_validation_regression(model, xtrain_sc, ytrain, xtest_sc, ytest)"
   ]
  },
  {
   "cell_type": "code",
   "execution_count": 96,
   "id": "55c1dde8",
   "metadata": {},
   "outputs": [
    {
     "name": "stdout",
     "output_type": "stream",
     "text": [
      "Mean Squared Error: 635440756688.477\n",
      "Mean Absolute Error: 95873.554\n",
      "Mean Absolute Percentage Error: 0.128\n",
      "R^2 Score: 0.657\n",
      "Explained Variance Score: 0.657\n",
      "Do you want to save the model in the scorecard? Y/N y\n"
     ]
    }
   ],
   "source": [
    "model = XGBRegressor()\n",
    "model_validation_regression(model, xtrain_sc, ytrain, xtest_sc, ytest)"
   ]
  },
  {
   "cell_type": "code",
   "execution_count": 98,
   "id": "b7b10025",
   "metadata": {
    "scrolled": true
   },
   "outputs": [
    {
     "data": {
      "text/html": [
       "<div>\n",
       "<style scoped>\n",
       "    .dataframe tbody tr th:only-of-type {\n",
       "        vertical-align: middle;\n",
       "    }\n",
       "\n",
       "    .dataframe tbody tr th {\n",
       "        vertical-align: top;\n",
       "    }\n",
       "\n",
       "    .dataframe thead th {\n",
       "        text-align: right;\n",
       "    }\n",
       "</style>\n",
       "<table border=\"1\" class=\"dataframe\">\n",
       "  <thead>\n",
       "    <tr style=\"text-align: right;\">\n",
       "      <th></th>\n",
       "      <th>Model</th>\n",
       "      <th>Mean Squared Error</th>\n",
       "      <th>Mean Absolute Error</th>\n",
       "      <th>Mean Absolute Percentage Error</th>\n",
       "      <th>R^2 Score</th>\n",
       "      <th>Explained Variance Score</th>\n",
       "    </tr>\n",
       "  </thead>\n",
       "  <tbody>\n",
       "    <tr>\n",
       "      <th>0</th>\n",
       "      <td>DecisionTreeRegressor(max_depth=7)</td>\n",
       "      <td>8.522476e+11</td>\n",
       "      <td>173955.391838</td>\n",
       "      <td>0.239536</td>\n",
       "      <td>0.539403</td>\n",
       "      <td>0.539430</td>\n",
       "    </tr>\n",
       "    <tr>\n",
       "      <th>1</th>\n",
       "      <td>RandomForestRegressor()</td>\n",
       "      <td>6.487078e+11</td>\n",
       "      <td>98321.595607</td>\n",
       "      <td>0.134927</td>\n",
       "      <td>0.649406</td>\n",
       "      <td>0.649454</td>\n",
       "    </tr>\n",
       "    <tr>\n",
       "      <th>2</th>\n",
       "      <td>XGBRegressor(base_score=None, booster=None, ca...</td>\n",
       "      <td>6.354408e+11</td>\n",
       "      <td>95873.553968</td>\n",
       "      <td>0.128271</td>\n",
       "      <td>0.656576</td>\n",
       "      <td>0.656620</td>\n",
       "    </tr>\n",
       "  </tbody>\n",
       "</table>\n",
       "</div>"
      ],
      "text/plain": [
       "                                               Model  Mean Squared Error  \\\n",
       "0                 DecisionTreeRegressor(max_depth=7)        8.522476e+11   \n",
       "1                            RandomForestRegressor()        6.487078e+11   \n",
       "2  XGBRegressor(base_score=None, booster=None, ca...        6.354408e+11   \n",
       "\n",
       "   Mean Absolute Error  Mean Absolute Percentage Error  R^2 Score  \\\n",
       "0        173955.391838                        0.239536   0.539403   \n",
       "1         98321.595607                        0.134927   0.649406   \n",
       "2         95873.553968                        0.128271   0.656576   \n",
       "\n",
       "   Explained Variance Score  \n",
       "0                  0.539430  \n",
       "1                  0.649454  \n",
       "2                  0.656620  "
      ]
     },
     "execution_count": 98,
     "metadata": {},
     "output_type": "execute_result"
    }
   ],
   "source": [
    "scorecard"
   ]
  },
  {
   "cell_type": "markdown",
   "id": "72da36df",
   "metadata": {},
   "source": [
    "# Hyper Parameter Tuning "
   ]
  },
  {
   "cell_type": "code",
   "execution_count": 99,
   "id": "0d2ad7c6",
   "metadata": {},
   "outputs": [],
   "source": [
    "from sklearn.model_selection import GridSearchCV\n",
    "from sklearn.metrics import make_scorer, mean_absolute_percentage_error, explained_variance_score"
   ]
  },
  {
   "cell_type": "code",
   "execution_count": 113,
   "id": "40266941",
   "metadata": {},
   "outputs": [],
   "source": [
    "param_grid = {\n",
    "    'n_estimators': [100, 200, 300],\n",
    "    'max_depth': [3, 4, 5, 6],\n",
    "    'learning_rate': [0.01, 0.1, 0.2]}\n",
    "\n",
    "model = XGBRegressor()\n",
    "grid_search_ev = GridSearchCV(estimator=model, \n",
    "                                param_grid=param_grid, scoring='explained_variance',\n",
    "                                cv=5, \n",
    "                                verbose=1, \n",
    "                                n_jobs=-1)"
   ]
  },
  {
   "cell_type": "code",
   "execution_count": null,
   "id": "9eeab149",
   "metadata": {},
   "outputs": [],
   "source": [
    "grid_search_ev.fit(xtrain_sc, ytrain)"
   ]
  },
  {
   "cell_type": "code",
   "execution_count": 116,
   "id": "efcda8fb",
   "metadata": {},
   "outputs": [
    {
     "name": "stdout",
     "output_type": "stream",
     "text": [
      "Best Parameters:  {'learning_rate': 0.2, 'max_depth': 3, 'n_estimators': 300}\n",
      "Best Score:  0.9258102752437569\n"
     ]
    }
   ],
   "source": [
    "best_params = grid_search_ev.best_params_\n",
    "best_score = grid_search_ev.best_score_\n",
    "\n",
    "print(\"Best Parameters: \", best_params)\n",
    "print(\"Best Score: \", best_score)"
   ]
  },
  {
   "cell_type": "markdown",
   "id": "fbc12a40",
   "metadata": {},
   "source": [
    "# Final Model"
   ]
  },
  {
   "cell_type": "code",
   "execution_count": 119,
   "id": "2f64ec4e",
   "metadata": {},
   "outputs": [
    {
     "data": {
      "text/html": [
       "<style>#sk-container-id-1 {color: black;}#sk-container-id-1 pre{padding: 0;}#sk-container-id-1 div.sk-toggleable {background-color: white;}#sk-container-id-1 label.sk-toggleable__label {cursor: pointer;display: block;width: 100%;margin-bottom: 0;padding: 0.3em;box-sizing: border-box;text-align: center;}#sk-container-id-1 label.sk-toggleable__label-arrow:before {content: \"▸\";float: left;margin-right: 0.25em;color: #696969;}#sk-container-id-1 label.sk-toggleable__label-arrow:hover:before {color: black;}#sk-container-id-1 div.sk-estimator:hover label.sk-toggleable__label-arrow:before {color: black;}#sk-container-id-1 div.sk-toggleable__content {max-height: 0;max-width: 0;overflow: hidden;text-align: left;background-color: #f0f8ff;}#sk-container-id-1 div.sk-toggleable__content pre {margin: 0.2em;color: black;border-radius: 0.25em;background-color: #f0f8ff;}#sk-container-id-1 input.sk-toggleable__control:checked~div.sk-toggleable__content {max-height: 200px;max-width: 100%;overflow: auto;}#sk-container-id-1 input.sk-toggleable__control:checked~label.sk-toggleable__label-arrow:before {content: \"▾\";}#sk-container-id-1 div.sk-estimator input.sk-toggleable__control:checked~label.sk-toggleable__label {background-color: #d4ebff;}#sk-container-id-1 div.sk-label input.sk-toggleable__control:checked~label.sk-toggleable__label {background-color: #d4ebff;}#sk-container-id-1 input.sk-hidden--visually {border: 0;clip: rect(1px 1px 1px 1px);clip: rect(1px, 1px, 1px, 1px);height: 1px;margin: -1px;overflow: hidden;padding: 0;position: absolute;width: 1px;}#sk-container-id-1 div.sk-estimator {font-family: monospace;background-color: #f0f8ff;border: 1px dotted black;border-radius: 0.25em;box-sizing: border-box;margin-bottom: 0.5em;}#sk-container-id-1 div.sk-estimator:hover {background-color: #d4ebff;}#sk-container-id-1 div.sk-parallel-item::after {content: \"\";width: 100%;border-bottom: 1px solid gray;flex-grow: 1;}#sk-container-id-1 div.sk-label:hover label.sk-toggleable__label {background-color: #d4ebff;}#sk-container-id-1 div.sk-serial::before {content: \"\";position: absolute;border-left: 1px solid gray;box-sizing: border-box;top: 0;bottom: 0;left: 50%;z-index: 0;}#sk-container-id-1 div.sk-serial {display: flex;flex-direction: column;align-items: center;background-color: white;padding-right: 0.2em;padding-left: 0.2em;position: relative;}#sk-container-id-1 div.sk-item {position: relative;z-index: 1;}#sk-container-id-1 div.sk-parallel {display: flex;align-items: stretch;justify-content: center;background-color: white;position: relative;}#sk-container-id-1 div.sk-item::before, #sk-container-id-1 div.sk-parallel-item::before {content: \"\";position: absolute;border-left: 1px solid gray;box-sizing: border-box;top: 0;bottom: 0;left: 50%;z-index: -1;}#sk-container-id-1 div.sk-parallel-item {display: flex;flex-direction: column;z-index: 1;position: relative;background-color: white;}#sk-container-id-1 div.sk-parallel-item:first-child::after {align-self: flex-end;width: 50%;}#sk-container-id-1 div.sk-parallel-item:last-child::after {align-self: flex-start;width: 50%;}#sk-container-id-1 div.sk-parallel-item:only-child::after {width: 0;}#sk-container-id-1 div.sk-dashed-wrapped {border: 1px dashed gray;margin: 0 0.4em 0.5em 0.4em;box-sizing: border-box;padding-bottom: 0.4em;background-color: white;}#sk-container-id-1 div.sk-label label {font-family: monospace;font-weight: bold;display: inline-block;line-height: 1.2em;}#sk-container-id-1 div.sk-label-container {text-align: center;}#sk-container-id-1 div.sk-container {/* jupyter's `normalize.less` sets `[hidden] { display: none; }` but bootstrap.min.css set `[hidden] { display: none !important; }` so we also need the `!important` here to be able to override the default hidden behavior on the sphinx rendered scikit-learn.org. See: https://github.com/scikit-learn/scikit-learn/issues/21755 */display: inline-block !important;position: relative;}#sk-container-id-1 div.sk-text-repr-fallback {display: none;}</style><div id=\"sk-container-id-1\" class=\"sk-top-container\"><div class=\"sk-text-repr-fallback\"><pre>XGBRegressor(base_score=None, booster=None, callbacks=None,\n",
       "             colsample_bylevel=None, colsample_bynode=None,\n",
       "             colsample_bytree=None, device=None, early_stopping_rounds=None,\n",
       "             enable_categorical=False, eval_metric=None, feature_types=None,\n",
       "             gamma=None, grow_policy=None, importance_type=None,\n",
       "             interaction_constraints=None, learning_rate=0.2, max_bin=None,\n",
       "             max_cat_threshold=None, max_cat_to_onehot=None,\n",
       "             max_delta_step=None, max_depth=3, max_leaves=None,\n",
       "             min_child_weight=None, missing=nan, monotone_constraints=None,\n",
       "             multi_strategy=None, n_estimators=300, n_jobs=None,\n",
       "             num_parallel_tree=None, random_state=None, ...)</pre><b>In a Jupyter environment, please rerun this cell to show the HTML representation or trust the notebook. <br />On GitHub, the HTML representation is unable to render, please try loading this page with nbviewer.org.</b></div><div class=\"sk-container\" hidden><div class=\"sk-item\"><div class=\"sk-estimator sk-toggleable\"><input class=\"sk-toggleable__control sk-hidden--visually\" id=\"sk-estimator-id-1\" type=\"checkbox\" checked><label for=\"sk-estimator-id-1\" class=\"sk-toggleable__label sk-toggleable__label-arrow\">XGBRegressor</label><div class=\"sk-toggleable__content\"><pre>XGBRegressor(base_score=None, booster=None, callbacks=None,\n",
       "             colsample_bylevel=None, colsample_bynode=None,\n",
       "             colsample_bytree=None, device=None, early_stopping_rounds=None,\n",
       "             enable_categorical=False, eval_metric=None, feature_types=None,\n",
       "             gamma=None, grow_policy=None, importance_type=None,\n",
       "             interaction_constraints=None, learning_rate=0.2, max_bin=None,\n",
       "             max_cat_threshold=None, max_cat_to_onehot=None,\n",
       "             max_delta_step=None, max_depth=3, max_leaves=None,\n",
       "             min_child_weight=None, missing=nan, monotone_constraints=None,\n",
       "             multi_strategy=None, n_estimators=300, n_jobs=None,\n",
       "             num_parallel_tree=None, random_state=None, ...)</pre></div></div></div></div></div>"
      ],
      "text/plain": [
       "XGBRegressor(base_score=None, booster=None, callbacks=None,\n",
       "             colsample_bylevel=None, colsample_bynode=None,\n",
       "             colsample_bytree=None, device=None, early_stopping_rounds=None,\n",
       "             enable_categorical=False, eval_metric=None, feature_types=None,\n",
       "             gamma=None, grow_policy=None, importance_type=None,\n",
       "             interaction_constraints=None, learning_rate=0.2, max_bin=None,\n",
       "             max_cat_threshold=None, max_cat_to_onehot=None,\n",
       "             max_delta_step=None, max_depth=3, max_leaves=None,\n",
       "             min_child_weight=None, missing=nan, monotone_constraints=None,\n",
       "             multi_strategy=None, n_estimators=300, n_jobs=None,\n",
       "             num_parallel_tree=None, random_state=None, ...)"
      ]
     },
     "execution_count": 119,
     "metadata": {},
     "output_type": "execute_result"
    }
   ],
   "source": [
    "final_model = XGBRegressor(**grid_search_ev.best_params_)\n",
    "final_model.fit(xtrain_sc, ytrain)"
   ]
  },
  {
   "cell_type": "code",
   "execution_count": 120,
   "id": "54b3b0df",
   "metadata": {},
   "outputs": [],
   "source": [
    "train_pred = final_model.predict(xtrain_sc)"
   ]
  },
  {
   "cell_type": "code",
   "execution_count": 121,
   "id": "dd3a05ae",
   "metadata": {},
   "outputs": [],
   "source": [
    "test_pred = final_model.predict(xtest_sc)"
   ]
  },
  {
   "cell_type": "code",
   "execution_count": 123,
   "id": "be5692b6",
   "metadata": {},
   "outputs": [],
   "source": [
    "mape1 = mean_absolute_percentage_error(ytrain, train_pred)\n",
    "mape2 = mean_absolute_percentage_error(ytest, test_pred)"
   ]
  },
  {
   "cell_type": "code",
   "execution_count": 126,
   "id": "7650f2d5",
   "metadata": {},
   "outputs": [],
   "source": [
    "adj_rsq1 = explained_variance_score(ytrain, train_pred)\n",
    "adj_rsq2 = explained_variance_score(ytest, test_pred)"
   ]
  },
  {
   "cell_type": "code",
   "execution_count": 127,
   "id": "5ebcd1ac",
   "metadata": {},
   "outputs": [],
   "source": [
    "sc = pd.DataFrame({'Train': [mape1, adj_rsq1], \n",
    "                   'Test': [ mape2, adj_rsq2]}, \n",
    "                  index=['MAPE', 'Adjusted RSquared'])"
   ]
  },
  {
   "cell_type": "code",
   "execution_count": 128,
   "id": "add13ecf",
   "metadata": {},
   "outputs": [
    {
     "data": {
      "text/html": [
       "<div>\n",
       "<style scoped>\n",
       "    .dataframe tbody tr th:only-of-type {\n",
       "        vertical-align: middle;\n",
       "    }\n",
       "\n",
       "    .dataframe tbody tr th {\n",
       "        vertical-align: top;\n",
       "    }\n",
       "\n",
       "    .dataframe thead th {\n",
       "        text-align: right;\n",
       "    }\n",
       "</style>\n",
       "<table border=\"1\" class=\"dataframe\">\n",
       "  <thead>\n",
       "    <tr style=\"text-align: right;\">\n",
       "      <th></th>\n",
       "      <th>Train</th>\n",
       "      <th>Test</th>\n",
       "    </tr>\n",
       "  </thead>\n",
       "  <tbody>\n",
       "    <tr>\n",
       "      <th>MAPE</th>\n",
       "      <td>0.129647</td>\n",
       "      <td>0.137880</td>\n",
       "    </tr>\n",
       "    <tr>\n",
       "      <th>Adjusted RSquared</th>\n",
       "      <td>0.980989</td>\n",
       "      <td>0.705121</td>\n",
       "    </tr>\n",
       "  </tbody>\n",
       "</table>\n",
       "</div>"
      ],
      "text/plain": [
       "                      Train      Test\n",
       "MAPE               0.129647  0.137880\n",
       "Adjusted RSquared  0.980989  0.705121"
      ]
     },
     "execution_count": 128,
     "metadata": {},
     "output_type": "execute_result"
    }
   ],
   "source": [
    "sc"
   ]
  },
  {
   "cell_type": "code",
   "execution_count": null,
   "id": "7e606f0a",
   "metadata": {},
   "outputs": [],
   "source": []
  }
 ],
 "metadata": {
  "kernelspec": {
   "display_name": "Python 3 (ipykernel)",
   "language": "python",
   "name": "python3"
  },
  "language_info": {
   "codemirror_mode": {
    "name": "ipython",
    "version": 3
   },
   "file_extension": ".py",
   "mimetype": "text/x-python",
   "name": "python",
   "nbconvert_exporter": "python",
   "pygments_lexer": "ipython3",
   "version": "3.11.5"
  }
 },
 "nbformat": 4,
 "nbformat_minor": 5
}
